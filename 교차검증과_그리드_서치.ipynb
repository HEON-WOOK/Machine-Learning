{
  "nbformat": 4,
  "nbformat_minor": 0,
  "metadata": {
    "colab": {
      "name": "교차검증과 그리드 서치.ipynb",
      "provenance": [],
      "collapsed_sections": [],
      "authorship_tag": "ABX9TyN7qcJ5m1LEX0HEPeo/Yw46",
      "include_colab_link": true
    },
    "kernelspec": {
      "name": "python3",
      "display_name": "Python 3"
    },
    "language_info": {
      "name": "python"
    }
  },
  "cells": [
    {
      "cell_type": "markdown",
      "metadata": {
        "id": "view-in-github",
        "colab_type": "text"
      },
      "source": [
        "<a href=\"https://colab.research.google.com/github/HEON-WOOK/Portfolio2/blob/main/%EA%B5%90%EC%B0%A8%EA%B2%80%EC%A6%9D%EA%B3%BC_%EA%B7%B8%EB%A6%AC%EB%93%9C_%EC%84%9C%EC%B9%98.ipynb\" target=\"_parent\"><img src=\"https://colab.research.google.com/assets/colab-badge.svg\" alt=\"Open In Colab\"/></a>"
      ]
    },
    {
      "cell_type": "code",
      "metadata": {
        "id": "AGcsUm2-7B5A"
      },
      "source": [
        "import pandas as pd\n",
        "wine = pd.read_csv('https://bit.ly/wine-date')"
      ],
      "execution_count": 2,
      "outputs": []
    },
    {
      "cell_type": "code",
      "metadata": {
        "id": "hWsUiShf7cBu"
      },
      "source": [
        "data = wine[['alcohol','sugar','pH']].to_numpy()\n",
        "target = wine['class'].to_numpy() "
      ],
      "execution_count": 3,
      "outputs": []
    },
    {
      "cell_type": "code",
      "metadata": {
        "id": "hwc1Ig8d7wN3"
      },
      "source": [
        "from sklearn.model_selection import train_test_split\n",
        "train_input,test_input,train_target,test_target = train_test_split(data,target,test_size = 0.2, random_state=42)\n"
      ],
      "execution_count": 10,
      "outputs": []
    },
    {
      "cell_type": "code",
      "metadata": {
        "id": "TbhqnfJwAFHk"
      },
      "source": [
        "sub_input,val_input,sub_target,val_target = train_test_split(train_input,train_target,test_size=0.2,random_state= 42)\n"
      ],
      "execution_count": 11,
      "outputs": []
    },
    {
      "cell_type": "code",
      "metadata": {
        "colab": {
          "base_uri": "https://localhost:8080/"
        },
        "id": "1KqACoXeAZAh",
        "outputId": "22bed5d9-2c92-4a3d-dff3-4df0932b885f"
      },
      "source": [
        "from sklearn.tree import DecisionTreeClassifier\n",
        "dt = DecisionTreeClassifier(random_state=42)\n",
        "dt.fit (sub_input,sub_target)\n",
        "print(dt.score(sub_input,sub_target))\n",
        "print(dt.score(val_input,val_target))"
      ],
      "execution_count": 12,
      "outputs": [
        {
          "output_type": "stream",
          "text": [
            "0.9971133028626413\n",
            "0.864423076923077\n"
          ],
          "name": "stdout"
        }
      ]
    },
    {
      "cell_type": "code",
      "metadata": {
        "colab": {
          "base_uri": "https://localhost:8080/"
        },
        "id": "95Kd-j9lCJpK",
        "outputId": "263326f5-2668-414d-d4ee-019a1f2d48b4"
      },
      "source": [
        "### K-겹 교차검증 (Defalut값 = 5겹)\n",
        "\n",
        "from sklearn.model_selection import cross_validate\n",
        "scores = cross_validate(dt,train_input,train_target)\n",
        "print(score)"
      ],
      "execution_count": 19,
      "outputs": [
        {
          "output_type": "stream",
          "text": [
            "{'fit_time': array([0.00754976, 0.00711656, 0.00734591, 0.0076406 , 0.00696802]), 'score_time': array([0.00082612, 0.00060606, 0.00058651, 0.00064254, 0.0005722 ]), 'test_score': array([0.86923077, 0.84615385, 0.87680462, 0.84889317, 0.83541867])}\n"
          ],
          "name": "stdout"
        }
      ]
    },
    {
      "cell_type": "code",
      "metadata": {
        "colab": {
          "base_uri": "https://localhost:8080/"
        },
        "id": "VVt8G_3eDgsI",
        "outputId": "fec4a093-63dd-4c5e-9747-3c6746e7bed3"
      },
      "source": [
        "import numpy as np\n",
        "print(np.mean(scores['test_score']))"
      ],
      "execution_count": 20,
      "outputs": [
        {
          "output_type": "stream",
          "text": [
            "0.855300214703487\n"
          ],
          "name": "stdout"
        }
      ]
    },
    {
      "cell_type": "code",
      "metadata": {
        "colab": {
          "base_uri": "https://localhost:8080/"
        },
        "id": "XB_8S7ByDtpB",
        "outputId": "4f207dca-0176-47c7-b9b5-a56ee065f374"
      },
      "source": [
        "scores['test_score']"
      ],
      "execution_count": 21,
      "outputs": [
        {
          "output_type": "execute_result",
          "data": {
            "text/plain": [
              "array([0.86923077, 0.84615385, 0.87680462, 0.84889317, 0.83541867])"
            ]
          },
          "metadata": {
            "tags": []
          },
          "execution_count": 21
        }
      ]
    },
    {
      "cell_type": "code",
      "metadata": {
        "colab": {
          "base_uri": "https://localhost:8080/"
        },
        "id": "2eQ2gwZqErxc",
        "outputId": "5779d128-23ac-4b05-975d-aa69942f84ed"
      },
      "source": [
        "### k폴드 시 데이터 섞기\n",
        "from sklearn.model_selection import StratifiedKFold\n",
        "scores = cross_validate(dt,train_input,train_target)\n",
        "print(np.mean(scores['test_score']))"
      ],
      "execution_count": 22,
      "outputs": [
        {
          "output_type": "stream",
          "text": [
            "0.855300214703487\n"
          ],
          "name": "stdout"
        }
      ]
    },
    {
      "cell_type": "code",
      "metadata": {
        "colab": {
          "base_uri": "https://localhost:8080/"
        },
        "id": "OrweKpnHMyh4",
        "outputId": "153dd7fa-6b1b-4ff6-b1f0-0b5100c5d16d"
      },
      "source": [
        "splitter = StratifiedKFold(n_splits=10,shuffle=True,random_state=42)\n",
        "scores = cross_validate(dt,train_input,train_target,cv=splitter)\n",
        "print(np.mean(scores['test_score']))"
      ],
      "execution_count": 23,
      "outputs": [
        {
          "output_type": "stream",
          "text": [
            "0.8574181117533719\n"
          ],
          "name": "stdout"
        }
      ]
    },
    {
      "cell_type": "code",
      "metadata": {
        "colab": {
          "base_uri": "https://localhost:8080/"
        },
        "id": "rttFH6xANGG_",
        "outputId": "79c4c1c7-2205-4e88-d910-5074966b7590"
      },
      "source": [
        "from sklearn.model_selection import GridSearchCV\n",
        "params = {'min_impurity_decrease':np.arange(0.0001,0.001,0.0001),'max_depth':range(5,20,1),'min_samples_split':range(2,100,10)}\n",
        "gs = GridSearchCV(DecisionTreeClassifier(random_state=42),params,n_jobs=-1)\n",
        "gs.fit(train_input,train_target)\n",
        "print(gs.best_params_)\n",
        "print(np.max(gs.cv_results_['mean_test_score']))"
      ],
      "execution_count": 28,
      "outputs": [
        {
          "output_type": "stream",
          "text": [
            "{'max_depth': 14, 'min_impurity_decrease': 0.0004, 'min_samples_split': 12}\n",
            "0.8683865773302731\n"
          ],
          "name": "stdout"
        }
      ]
    },
    {
      "cell_type": "code",
      "metadata": {
        "id": "lURReac8ZSQs"
      },
      "source": [
        "from scipy.stats import uniform,randint"
      ],
      "execution_count": 29,
      "outputs": []
    },
    {
      "cell_type": "code",
      "metadata": {
        "id": "JlO29YZvdOAV"
      },
      "source": [
        "params = {'min_impurity_decrease':uniform(0.0001,0.001),'max_depth':randint(20,50),'min_samples_split':randint(2,25),'min_samples_leaf':randint(1,25)}"
      ],
      "execution_count": 38,
      "outputs": []
    },
    {
      "cell_type": "code",
      "metadata": {
        "colab": {
          "base_uri": "https://localhost:8080/"
        },
        "id": "R7I94rk9dqKT",
        "outputId": "8d28e0dc-bac1-4121-9449-7696d5e58086"
      },
      "source": [
        "from sklearn.model_selection import RandomizedSearchCV\n",
        "gs = RandomizedSearchCV(DecisionTreeClassifier(random_state=42),params,n_iter=100,n_jobs=-1,random_state=42)\n",
        "gs.fit(train_input,train_target)\n",
        "print(gs.best_params_)"
      ],
      "execution_count": 41,
      "outputs": [
        {
          "output_type": "stream",
          "text": [
            "{'max_depth': 39, 'min_impurity_decrease': 0.00034102546602601173, 'min_samples_leaf': 7, 'min_samples_split': 13}\n"
          ],
          "name": "stdout"
        }
      ]
    },
    {
      "cell_type": "code",
      "metadata": {
        "colab": {
          "base_uri": "https://localhost:8080/"
        },
        "id": "Rt8WPAhzeDKv",
        "outputId": "cdbb9509-a26c-493e-8a65-bfd29b75dd6a"
      },
      "source": [
        "print(np.max(gs.cv_results_['mean_test_score']))\n",
        "dt = gs.best_estimator_\n",
        "print(dt.score(test_input,test_target))"
      ],
      "execution_count": 42,
      "outputs": [
        {
          "output_type": "stream",
          "text": [
            "0.8695428296438884\n",
            "0.86\n"
          ],
          "name": "stdout"
        }
      ]
    },
    {
      "cell_type": "code",
      "metadata": {
        "colab": {
          "base_uri": "https://localhost:8080/"
        },
        "id": "cwUmSUugfeuD",
        "outputId": "05763eeb-e945-4562-a935-489e685aecd1"
      },
      "source": [
        "np.mean(gs.cv_results_['mean_test_score'])"
      ],
      "execution_count": 44,
      "outputs": [
        {
          "output_type": "execute_result",
          "data": {
            "text/plain": [
              "0.8639124620567113"
            ]
          },
          "metadata": {
            "tags": []
          },
          "execution_count": 44
        }
      ]
    },
    {
      "cell_type": "code",
      "metadata": {
        "id": "ZwHKK7vMfvDo"
      },
      "source": [
        ""
      ],
      "execution_count": null,
      "outputs": []
    }
  ]
}