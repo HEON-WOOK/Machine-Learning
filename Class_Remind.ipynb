{
  "nbformat": 4,
  "nbformat_minor": 0,
  "metadata": {
    "colab": {
      "name": "Class Remind.ipynb",
      "provenance": [],
      "collapsed_sections": [],
      "authorship_tag": "ABX9TyMmvKQNm23H8Yfqlj8rlA6m",
      "include_colab_link": true
    },
    "kernelspec": {
      "name": "python3",
      "display_name": "Python 3"
    },
    "language_info": {
      "name": "python"
    }
  },
  "cells": [
    {
      "cell_type": "markdown",
      "metadata": {
        "id": "view-in-github",
        "colab_type": "text"
      },
      "source": [
        "<a href=\"https://colab.research.google.com/github/HEON-WOOK/Machine-Learning/blob/main/Class_Remind.ipynb\" target=\"_parent\"><img src=\"https://colab.research.google.com/assets/colab-badge.svg\" alt=\"Open In Colab\"/></a>"
      ]
    },
    {
      "cell_type": "code",
      "metadata": {
        "id": "fzvSithTWwzA"
      },
      "source": [
        "### class란 ? \n",
        "#실세계의 것을 모델링하여 속성(attribute)과 동작(method)을 갖는 데이터 타입\n",
        "#Python에서의 string,int,list,dict 모두가 다 클래스로 존재\n",
        "#예를 들어 학생이라는 클래스를 만든다면, 학생을 나타내는 속성과 학생이 행하는 행동을 함께 정의할 수 있음"
      ],
      "execution_count": null,
      "outputs": []
    },
    {
      "cell_type": "code",
      "metadata": {
        "colab": {
          "base_uri": "https://localhost:8080/"
        },
        "id": "H0yPVPv-XZDO",
        "outputId": "095358e7-1bb4-4291-ef4f-4702b699c170"
      },
      "source": [
        "a = [1,2,3,4] #속성(1,2,3,4)\n",
        "a.append(5) #append (Method)\n",
        "print(a)"
      ],
      "execution_count": null,
      "outputs": [
        {
          "output_type": "stream",
          "text": [
            "[1, 2, 3, 4, 5]\n"
          ],
          "name": "stdout"
        }
      ]
    },
    {
      "cell_type": "code",
      "metadata": {
        "id": "6HRIKNhEXkJx"
      },
      "source": [
        "### Class 선언하기\n",
        "#객체를 생성하기 위해선 객체의 모체가 되는 Class를 미리 선언해야 함\n"
      ],
      "execution_count": null,
      "outputs": []
    },
    {
      "cell_type": "code",
      "metadata": {
        "id": "047JVt1qX02Q"
      },
      "source": [
        "class Person:\n",
        "  pass"
      ],
      "execution_count": null,
      "outputs": []
    },
    {
      "cell_type": "code",
      "metadata": {
        "colab": {
          "base_uri": "https://localhost:8080/"
        },
        "id": "tP0oEIMoYQ3C",
        "outputId": "5fb0dc71-ebf2-4e04-9753-36cb8e7d81be"
      },
      "source": [
        "bob = Person()\n",
        "cathy =Person()\n",
        "\n",
        "a= list()\n",
        "b= list()\n",
        "\n",
        "print(type(bob),type(cathy))\n",
        "print(type(a),type(b))"
      ],
      "execution_count": null,
      "outputs": [
        {
          "output_type": "stream",
          "text": [
            "<class '__main__.Person'> <class '__main__.Person'>\n",
            "<class 'list'> <class 'list'>\n"
          ],
          "name": "stdout"
        }
      ]
    },
    {
      "cell_type": "code",
      "metadata": {
        "id": "sLRMd3auYt1r"
      },
      "source": [
        "### __init__(self)\n",
        "# 생성자,클래스 인스턴스가 생성될 때 호출 됨\n",
        "# self인자는 항상 첫번째에 오며 자기 자신을 가리킴\n",
        "# 이름이 꼭 Self일 필요는 없지만, 관례적으로 Self로 사용\n",
        "# 생성자에서는 해당 클래스가 다루는 데이터를 정의\n",
        "# (이 데이터를 멤버 변수(member variable)또는 속성(attribute)라고 함"
      ],
      "execution_count": null,
      "outputs": []
    },
    {
      "cell_type": "code",
      "metadata": {
        "colab": {
          "base_uri": "https://localhost:8080/",
          "height": 70
        },
        "id": "Jxn_F88XZjX9",
        "outputId": "2b26ff71-998c-455b-e451-3c4bed2a6b84"
      },
      "source": [
        "class Person:\n",
        "  def __init__(self):\n",
        "    print(self,'is generated')\n",
        "    self.name = 'Kate'\n",
        "    self.age = 10\n",
        "\n",
        "p1 = Person()\n",
        "p2 = Person()\n",
        "\n",
        "p1.name"
      ],
      "execution_count": null,
      "outputs": [
        {
          "output_type": "stream",
          "text": [
            "<__main__.Person object at 0x7fb28ce7b150> is generated\n",
            "<__main__.Person object at 0x7fb28ce7bad0> is generated\n"
          ],
          "name": "stdout"
        },
        {
          "output_type": "execute_result",
          "data": {
            "application/vnd.google.colaboratory.intrinsic+json": {
              "type": "string"
            },
            "text/plain": [
              "'Kate'"
            ]
          },
          "metadata": {
            "tags": []
          },
          "execution_count": 13
        }
      ]
    },
    {
      "cell_type": "code",
      "metadata": {
        "colab": {
          "base_uri": "https://localhost:8080/"
        },
        "id": "yjGAU6vsZ86k",
        "outputId": "fe593f5a-551a-44f1-b4e3-502bfd043f3a"
      },
      "source": [
        "class Person:\n",
        "  def __init__(self,name,age=10): #Default 값 10\n",
        "    print(self,'is generated')\n",
        "    self.name = name\n",
        "    self.age = age\n",
        "\n",
        "p1 = Person('Bob',30)\n",
        "p2 = Person('Kate',20)\n",
        "p3 = Person('Aaron')\n",
        "\n",
        "print([p1.name,p1.age])\n",
        "print([p2.name,p2.age])\n",
        "print([p3.name,p3.age])"
      ],
      "execution_count": null,
      "outputs": [
        {
          "output_type": "stream",
          "text": [
            "<__main__.Person object at 0x7fb28ce586d0> is generated\n",
            "<__main__.Person object at 0x7fb28ced0f90> is generated\n",
            "<__main__.Person object at 0x7fb28ced0a50> is generated\n",
            "['Bob', 30]\n",
            "['Kate', 20]\n",
            "['Aaron', 10]\n"
          ],
          "name": "stdout"
        }
      ]
    },
    {
      "cell_type": "code",
      "metadata": {
        "id": "pkpLWPAratt5"
      },
      "source": [
        "### Self\n",
        "# 파이썬의 Method는 항상 첫번째 인자로 Self를 전달\n",
        "# Self는 현재 해당 메쏘드가 호출되는 객체 자신을 가리킴\n",
        "# 역시, 이름이 Self일 필요는 없으나, 위치는 항상 맨처음의 aparameter이며 관계적으로 Self사용"
      ],
      "execution_count": null,
      "outputs": []
    },
    {
      "cell_type": "code",
      "metadata": {
        "colab": {
          "base_uri": "https://localhost:8080/"
        },
        "id": "wr96wAyPcFeE",
        "outputId": "4f5e6673-cec2-4cd1-f9cb-48167c5d528b"
      },
      "source": [
        "class Person:\n",
        "  def __init__(self,name,age):\n",
        "    self.name = name\n",
        "    self.age = age\n",
        "  \n",
        "  def sleep(self):\n",
        "    print(self.name,'은 잠을 잡니다')\n",
        "a = Person('Aaron',20)\n",
        "b = Person('Bob',30)\n",
        "a.sleep()\n",
        "b.sleep()"
      ],
      "execution_count": null,
      "outputs": [
        {
          "output_type": "stream",
          "text": [
            "Aaron 은 잠을 잡니다\n",
            "Bob 은 잠을 잡니다\n"
          ],
          "name": "stdout"
        }
      ]
    },
    {
      "cell_type": "code",
      "metadata": {
        "id": "E38AOKZQcXXV"
      },
      "source": [
        "### method 정의\n",
        "# 멤버함수라고도 하며, 해당 클래스의 object에서만 호출가능\n",
        "# 메소드는 객체 레벨에서 호출되며, 해당 객체의 속성에 대한 연산읋 행함\n",
        "# {obj},{method}()형태로 호출됨"
      ],
      "execution_count": null,
      "outputs": []
    },
    {
      "cell_type": "code",
      "metadata": {
        "colab": {
          "base_uri": "https://localhost:8080/"
        },
        "id": "K6emCq8ke0lN",
        "outputId": "7a824d09-12b7-4234-b428-1bee34428fd7"
      },
      "source": [
        "class Counter : \n",
        "  def __init__(self):\n",
        "    self.num = 0\n",
        "\n",
        "  def increment(self):\n",
        "    self.num +=1\n",
        "  def reset(self):\n",
        "    self.num =0\n",
        "    \n",
        "  def print_current_value (self):\n",
        "    print('현재값은', self.num)\n",
        "\n",
        "c1 = Counter()\n",
        "c1.print_current_value()\n",
        "\n",
        "c1.increment()\n",
        "c1.increment()\n",
        "c1.increment()\n",
        "c1.print_current_value()\n",
        "\n",
        "c1.reset()\n",
        "c1.print_current_value()"
      ],
      "execution_count": null,
      "outputs": [
        {
          "output_type": "stream",
          "text": [
            "현재값은 0\n",
            "현재값은 3\n",
            "현재값은 0\n"
          ],
          "name": "stdout"
        }
      ]
    },
    {
      "cell_type": "code",
      "metadata": {
        "id": "T3F1pAyNfosU"
      },
      "source": [
        "### method type \n",
        "# instance method - 객체로 호출\n",
        "# 메쏘드는 객체 레벨로 호출 되기 때문에, 해당 메쏘드를 호출한 객체에만 영향을 미침\n",
        "\n",
        "# class method (static method) - class로 호출\n",
        "# 클래스 메쏘드의 경우, 클래스 레벨로 호출되기 때문에 , 클래스 멤버 변수만 변경가능\n"
      ],
      "execution_count": null,
      "outputs": []
    },
    {
      "cell_type": "code",
      "metadata": {
        "colab": {
          "base_uri": "https://localhost:8080/"
        },
        "id": "aLwAIKMgixUg",
        "outputId": "9e8d229c-f92b-4f0d-ccb5-50ce59f8f153"
      },
      "source": [
        "class math : \n",
        "  def add(self,a,b):\n",
        "    return a + b\n",
        "  def multiply(self,a,b):\n",
        "    return a*b\n",
        "\n",
        "m = math()\n",
        "m.add(10,20)\n",
        "m.multiply(10,20)"
      ],
      "execution_count": null,
      "outputs": [
        {
          "output_type": "execute_result",
          "data": {
            "text/plain": [
              "200"
            ]
          },
          "metadata": {
            "tags": []
          },
          "execution_count": 47
        }
      ]
    },
    {
      "cell_type": "code",
      "metadata": {
        "colab": {
          "base_uri": "https://localhost:8080/"
        },
        "id": "OTersOGUi7fh",
        "outputId": "f77e066b-9ee7-475c-d53b-d45c6cbb55bc"
      },
      "source": [
        "class math :\n",
        "  @staticmethod #Self호출이 필요없는 경우 (내부적인 속성사용을 하지 않는 경우lass math :\n",
        "    @staticmethod #Self호출이 필요없는 경우 (내부적인 속성사용을 하지 않는 경우)\n",
        "      def add(a,b):\n",
        "          return a + b\n",
        "            @staticmethod\n",
        "              def multiply(a,b):\n",
        "                  return a*b\n",
        "\n",
        "                  math.add(10,20)\n",
        "  def add(a,b):\n",
        "    return a + b\n",
        "  @staticmethod\n",
        "  def multiply(a,b):\n",
        "    return a*b\n",
        "\n",
        "math.add(10,20)"
      ],
      "execution_count": null,
      "outputs": [
        {
          "output_type": "execute_result",
          "data": {
            "text/plain": [
              "30"
            ]
          },
          "metadata": {
            "tags": []
          },
          "execution_count": 48
        }
      ]
    },
    {
      "cell_type": "code",
      "metadata": {
        "id": "R0uwIYknjpKJ"
      },
      "source": [
        "# Class Inheritance(상속)\n",
        "\n",
        "# 기존에 정의해둔 클래스의 기능을 그대로 물려받을 수 있다.\n",
        "#기존 클래스에 기능 일부를 추가하거나,변경하여 새로운 클래스를 정의한다.\n",
        "#코드를 재사용할 수 있게된다.\n",
        "#상속 받고자 하는 대상인 기존 클래스는(Parent,super,base class 라고 부른다.)\n",
        "#상속 받는 새로운 클래스는 (Child,Sub,Derived class 라고 부른다)\n",
        "# 의미적으로 Is-a관계를 갖는다"
      ],
      "execution_count": null,
      "outputs": []
    },
    {
      "cell_type": "code",
      "metadata": {
        "colab": {
          "base_uri": "https://localhost:8080/"
        },
        "id": "449Y8ghIkfpm",
        "outputId": "35454526-1c9d-4ab0-8b6c-5e976204700d"
      },
      "source": [
        "class Person :\n",
        "  def __init__(self,name,age):\n",
        "    self.name = name\n",
        "    self.age = age\n",
        "  def eat(self,food):\n",
        "    print('{}은 {}를 먹습니다.'.format(self.name,food))\n",
        "  def sleep(self,minute):\n",
        "    print('{}은 {}분동안 잡니다'.format(self.name,minute))\n",
        "  def work(self,minute):\n",
        "    print('{}은 {}분동안 일 합니다'.format(self.name,minute))\n",
        "\n",
        "class Student(Person) : # Person의 Class를 상속 받음\n",
        "    def __init__(self,name,age):\n",
        "      self.name = name\n",
        "      self.age = age\n",
        "  \n",
        "\n",
        "class Employee(Person) :\n",
        "    def __init__(self,name,age):\n",
        "      self.name = name\n",
        "      self.age = age\n",
        "\n",
        "bob = Student('Bob',25)\n",
        "bob.eat('BBQ')\n",
        "bob.sleep(30)\n",
        "bob.work(60)"
      ],
      "execution_count": null,
      "outputs": [
        {
          "output_type": "stream",
          "text": [
            "Bob은 BBQ를 먹습니다.\n",
            "Bob은 30분동안 잡니다\n",
            "Bob은 60분동안 일 합니다\n"
          ],
          "name": "stdout"
        }
      ]
    },
    {
      "cell_type": "code",
      "metadata": {
        "id": "zwv2H3HtlqgL"
      },
      "source": [
        "### Method Override"
      ],
      "execution_count": null,
      "outputs": []
    },
    {
      "cell_type": "code",
      "metadata": {
        "colab": {
          "base_uri": "https://localhost:8080/"
        },
        "id": "xml-H37qmiz6",
        "outputId": "00947445-4911-42d0-8f59-2e298ee49129"
      },
      "source": [
        "class Person :\n",
        "  def __init__(self,name,age):\n",
        "    self.name = name\n",
        "    self.age = age\n",
        "  def eat(self,food):\n",
        "    print('{}은 {}를 먹습니다.'.format(self.name,food))\n",
        "  def sleep(self,minute):\n",
        "    print('{}은 {}분동안 잡니다'.format(self.name,minute))\n",
        "  def work(self,minute):\n",
        "    print('{}은 {}분동안 일 합니다'.format(self.name,minute))\n",
        "\n",
        "class Student(Person) : # Person의 Class를 상속 받음\n",
        "    def __init__(self,name,age):\n",
        "      self.name = name\n",
        "      self.age = age\n",
        "    def work(self,minute):\n",
        "      print('{}은 {}분동안 공부 합니다'.format(self.name,minute))\n",
        "  \n",
        "\n",
        "class Employee(Person) :\n",
        "    def __init__(self,name,age):\n",
        "      self.name = name\n",
        "      self.age = age\n",
        "bob = Student('Bob',25)\n",
        "bob.eat('BBQ')\n",
        "bob.sleep(30)\n",
        "bob.work(60) # 자식 클래스의 메소드를 재 정의 함"
      ],
      "execution_count": null,
      "outputs": [
        {
          "output_type": "stream",
          "text": [
            "Bob은 BBQ를 먹습니다.\n",
            "Bob은 30분동안 잡니다\n",
            "Bob은 60분동안 공부 합니다\n"
          ],
          "name": "stdout"
        }
      ]
    },
    {
      "cell_type": "code",
      "metadata": {
        "id": "AMnyGEQBmqIa"
      },
      "source": [
        "### super\n"
      ],
      "execution_count": null,
      "outputs": []
    },
    {
      "cell_type": "code",
      "metadata": {
        "colab": {
          "base_uri": "https://localhost:8080/"
        },
        "id": "Jt9u89Emm-BD",
        "outputId": "e375e83b-22d6-432a-fdc6-1f6bc3b6caa3"
      },
      "source": [
        "class Person :\n",
        "  def __init__(self,name,age):\n",
        "    self.name = name\n",
        "    self.age = age\n",
        "  def eat(self,food):\n",
        "    print('{}은 {}를 먹습니다.'.format(self.name,food))\n",
        "  def sleep(self,minute):\n",
        "    print('{}은 {}분동안 잡니다'.format(self.name,minute))\n",
        "  def work(self,minute):\n",
        "    print('{}은 {}분동안 준비를 합니다'.format(self.name,minute))\n",
        "\n",
        "class Student(Person) : # Person의 Class를 상속 받음\n",
        "    def __init__(self,name,age):\n",
        "      self.name = name\n",
        "      self.age = age\n",
        "    def work(self,minute):\n",
        "      super().work(minute)\n",
        "      print('{}은 {}분동안 공부 합니다'.format(self.name,minute))\n",
        "\n",
        "\n",
        "bob = Student('Bob',25)\n",
        "bob.eat('BBQ')\n",
        "bob.sleep(30)\n",
        "bob.work(60)  #부모클래스의 기능을 복구함ob = Student('Bob',25)\n",
        "bob.eat('BBQ')\n",
        "bob.sleep(30)\n",
        "bob.work(60)  #부모클래스의 기능을 복구함\n",
        "  \n",
        "  "
      ],
      "execution_count": null,
      "outputs": [
        {
          "output_type": "stream",
          "text": [
            "Bob은 BBQ를 먹습니다.\n",
            "Bob은 30분동안 잡니다\n",
            "Bob은 60분동안 준비를 합니다\n",
            "Bob은 60분동안 공부 합니다\n"
          ],
          "name": "stdout"
        }
      ]
    },
    {
      "cell_type": "code",
      "metadata": {
        "id": "a8KHguX5nM6p"
      },
      "source": [
        ""
      ],
      "execution_count": null,
      "outputs": []
    }
  ]
}