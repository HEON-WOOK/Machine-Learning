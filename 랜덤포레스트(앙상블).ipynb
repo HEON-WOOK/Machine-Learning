{
  "nbformat": 4,
  "nbformat_minor": 0,
  "metadata": {
    "colab": {
      "name": "랜덤포레스트(앙상블).ipynb",
      "provenance": [],
      "collapsed_sections": [],
      "authorship_tag": "ABX9TyOy0YAr9iYdSwgKr5wp/Vx7",
      "include_colab_link": true
    },
    "kernelspec": {
      "name": "python3",
      "display_name": "Python 3"
    },
    "language_info": {
      "name": "python"
    }
  },
  "cells": [
    {
      "cell_type": "markdown",
      "metadata": {
        "id": "view-in-github",
        "colab_type": "text"
      },
      "source": [
        "<a href=\"https://colab.research.google.com/github/HEON-WOOK/Portfolio2/blob/main/%EB%9E%9C%EB%8D%A4%ED%8F%AC%EB%A0%88%EC%8A%A4%ED%8A%B8(%EC%95%99%EC%83%81%EB%B8%94).ipynb\" target=\"_parent\"><img src=\"https://colab.research.google.com/assets/colab-badge.svg\" alt=\"Open In Colab\"/></a>"
      ]
    },
    {
      "cell_type": "code",
      "metadata": {
        "id": "z_bl4P-Bl2BW"
      },
      "source": [
        "import numpy as np\n",
        "import pandas as pd\n",
        "from sklearn.model_selection import train_test_split\n",
        "wine = pd.read_csv('https://bit.ly/wine-date')\n",
        "data = wine[['alcohol','sugar','pH']].to_numpy()\n",
        "target = wine['class'].to_numpy()\n",
        "train_input,test_input,train_target,test_target = train_test_split(data,target,test_size=0.2,random_state = 42) "
      ],
      "execution_count": 1,
      "outputs": []
    },
    {
      "cell_type": "code",
      "metadata": {
        "id": "U5y2ggGrmvxK",
        "colab": {
          "base_uri": "https://localhost:8080/"
        },
        "outputId": "31d13985-1636-44fe-a68b-96d73eaea27a"
      },
      "source": [
        "from sklearn.model_selection import cross_validate\n",
        "from sklearn.ensemble import RandomForestClassifier\n",
        "rf = RandomForestClassifier(random_state=42)\n",
        "\n",
        "score = cross_validate(rf,train_input,train_target,return_train_score=True,n_jobs=-1)\n",
        "# Train score 와  교차검증의 결과를 비교하는 것은 과적합 유무 판단에 도움이 됨\n",
        "print(np.mean(score['train_score'])),print(np.mean(score['test_score']))\n",
        "# Train 값이 Test값보다 높다는 건 과대적합 됐을 가능성 있음"
      ],
      "execution_count": 6,
      "outputs": [
        {
          "output_type": "stream",
          "text": [
            "0.9973541965122431\n",
            "0.8905151032797809\n"
          ],
          "name": "stdout"
        },
        {
          "output_type": "execute_result",
          "data": {
            "text/plain": [
              "(None, None)"
            ]
          },
          "metadata": {
            "tags": []
          },
          "execution_count": 6
        }
      ]
    },
    {
      "cell_type": "code",
      "metadata": {
        "colab": {
          "base_uri": "https://localhost:8080/"
        },
        "id": "Hvsn4k_A7_-L",
        "outputId": "0fbbadea-d6d5-4246-e98e-46c9542241b3"
      },
      "source": [
        "rf.fit(train_input,train_target)\n",
        "print(rf.feature_importances_)"
      ],
      "execution_count": 7,
      "outputs": [
        {
          "output_type": "stream",
          "text": [
            "[0.23167441 0.50039841 0.26792718]\n"
          ],
          "name": "stdout"
        }
      ]
    },
    {
      "cell_type": "code",
      "metadata": {
        "colab": {
          "base_uri": "https://localhost:8080/"
        },
        "id": "RhjH19nc8eTb",
        "outputId": "eb3af798-1e37-4c14-a4f0-ea77ce9f226e"
      },
      "source": [
        "# OOB (Out of Bag) Test (Random Forest 무작위 샘플링 후 남는 것들)\n",
        "\n",
        "rf = RandomForestClassifier(oob_score = True,n_jobs=-1,random_state=42)\n",
        "rf.fit(train_input,train_target)\n",
        "print(rf.oob_score_)"
      ],
      "execution_count": 10,
      "outputs": [
        {
          "output_type": "stream",
          "text": [
            "0.8934000384837406\n"
          ],
          "name": "stdout"
        }
      ]
    },
    {
      "cell_type": "code",
      "metadata": {
        "colab": {
          "base_uri": "https://localhost:8080/"
        },
        "id": "4Y8rBRCS9OrT",
        "outputId": "c4a25b33-3e8d-4bfb-f756-ae46d802aaad"
      },
      "source": [
        "# Random Forest : 데이터,노드를 나눌때 특성을 여러앙상블에 무작위 분배함(복원), 얼마나 효율적으로 노드를 나누는가\n",
        "# Extra Tres : 데이터,노드를 나눌때 특성을 여러앙상블에 무작위 분배(비복원), 특성을 랜덤으로 배치하여 노드별 Cut Point를 나눔\n",
        "\n",
        "from sklearn.ensemble import ExtraTreesClassifier\n",
        "et = ExtraTreesClassifier(n_jobs=-1,random_state = 42)\n",
        "scores = cross_validate(et,train_input,train_target,return_train_score=True,n_jobs=-1)\n",
        "print(np.mean(scores['train_score'])), print(np.mean(scores['test_score']))"
      ],
      "execution_count": 11,
      "outputs": [
        {
          "output_type": "stream",
          "text": [
            "0.9974503966084433\n",
            "0.8887848893166506\n"
          ],
          "name": "stdout"
        },
        {
          "output_type": "execute_result",
          "data": {
            "text/plain": [
              "(None, None)"
            ]
          },
          "metadata": {
            "tags": []
          },
          "execution_count": 11
        }
      ]
    },
    {
      "cell_type": "code",
      "metadata": {
        "colab": {
          "base_uri": "https://localhost:8080/"
        },
        "id": "7NHLXfwN_coN",
        "outputId": "a8d36a8f-6015-4936-d89e-e6ed81a5910b"
      },
      "source": [
        "et.fit(train_input,train_target)\n",
        "print(et.feature_importances_)"
      ],
      "execution_count": 12,
      "outputs": [
        {
          "output_type": "stream",
          "text": [
            "[0.20183568 0.52242907 0.27573525]\n"
          ],
          "name": "stdout"
        }
      ]
    },
    {
      "cell_type": "code",
      "metadata": {
        "colab": {
          "base_uri": "https://localhost:8080/"
        },
        "id": "9az52-fB_vxi",
        "outputId": "159d5a0c-9070-4da7-c1c6-74db61348244"
      },
      "source": [
        "# Gradient Boosting : 얕은 결정트리를 사용하여 이전 트리의 오차를 보완하는 방식\n",
        "\n",
        "from sklearn.ensemble import GradientBoostingClassifier\n",
        "gb = GradientBoostingClassifier(random_state = 42)\n",
        "scores = cross_validate(gb,train_input,train_target,n_jobs=-1,return_train_score=True)\n",
        "print(np.mean(scores['train_score'])),print(np.mean(scores['test_score']))"
      ],
      "execution_count": 15,
      "outputs": [
        {
          "output_type": "stream",
          "text": [
            "0.8881086892152563\n",
            "0.8720430147331015\n"
          ],
          "name": "stdout"
        },
        {
          "output_type": "execute_result",
          "data": {
            "text/plain": [
              "(None, None)"
            ]
          },
          "metadata": {
            "tags": []
          },
          "execution_count": 15
        }
      ]
    },
    {
      "cell_type": "code",
      "metadata": {
        "colab": {
          "base_uri": "https://localhost:8080/"
        },
        "id": "5hkvYMnmDSO0",
        "outputId": "6a93b589-913a-49a2-e238-a6114b6909b1"
      },
      "source": [
        "# n_estimators = 결정트리의 개수\n",
        "\n",
        "from sklearn.ensemble import GradientBoostingClassifier\n",
        "gb = GradientBoostingClassifier(n_estimators = 500,random_state = 42)\n",
        "scores = cross_validate(gb,train_input,train_target,n_jobs=-1,return_train_score=True)\n",
        "print(np.mean(scores['train_score'])),print(np.mean(scores['test_score']))"
      ],
      "execution_count": 16,
      "outputs": [
        {
          "output_type": "stream",
          "text": [
            "0.9215896435285418\n",
            "0.8749283704745687\n"
          ],
          "name": "stdout"
        },
        {
          "output_type": "execute_result",
          "data": {
            "text/plain": [
              "(None, None)"
            ]
          },
          "metadata": {
            "tags": []
          },
          "execution_count": 16
        }
      ]
    },
    {
      "cell_type": "code",
      "metadata": {
        "colab": {
          "base_uri": "https://localhost:8080/"
        },
        "id": "-JsQXW_8DxD6",
        "outputId": "55b8d659-d223-4458-b970-e36718d21932"
      },
      "source": [
        "gb.fit(train_input,train_target)\n",
        "print(gb.feature_importances_)"
      ],
      "execution_count": 17,
      "outputs": [
        {
          "output_type": "stream",
          "text": [
            "[0.14230296 0.70606994 0.1516271 ]\n"
          ],
          "name": "stdout"
        }
      ]
    },
    {
      "cell_type": "code",
      "metadata": {
        "colab": {
          "base_uri": "https://localhost:8080/"
        },
        "id": "InhSsU9iED9D",
        "outputId": "1b27e358-f016-4663-fdcf-55df6fcc52be"
      },
      "source": [
        "# 히스토그램 기반 그레디언트 부스팅\n",
        "from sklearn.experimental import enable_hist_gradient_boosting\n",
        "from sklearn.ensemble import HistGradientBoostingClassifier\n",
        "hgb = HistGradientBoostingClassifier(random_state=42)\n",
        "scores = cross_validate(hgb,train_input,train_target,n_jobs=-1,return_train_score=True)\n",
        "print(np.mean(scores['train_score'])),print(np.mean(scores['test_score']))"
      ],
      "execution_count": 19,
      "outputs": [
        {
          "output_type": "stream",
          "text": [
            "0.9321723946453317\n",
            "0.8801241948619236\n"
          ],
          "name": "stdout"
        },
        {
          "output_type": "execute_result",
          "data": {
            "text/plain": [
              "(None, None)"
            ]
          },
          "metadata": {
            "tags": []
          },
          "execution_count": 19
        }
      ]
    },
    {
      "cell_type": "code",
      "metadata": {
        "colab": {
          "base_uri": "https://localhost:8080/"
        },
        "id": "9GHfhdWDH945",
        "outputId": "8468e272-f587-4ec9-a8db-62a76489f148"
      },
      "source": [
        "hgb.fit(train_input,train_target)\n",
        "hgb.score(test_input,test_target)"
      ],
      "execution_count": 22,
      "outputs": [
        {
          "output_type": "execute_result",
          "data": {
            "text/plain": [
              "0.8723076923076923"
            ]
          },
          "metadata": {
            "tags": []
          },
          "execution_count": 22
        }
      ]
    },
    {
      "cell_type": "code",
      "metadata": {
        "id": "5BiMLyzDIXSt"
      },
      "source": [
        ""
      ],
      "execution_count": null,
      "outputs": []
    }
  ]
}