{
  "nbformat": 4,
  "nbformat_minor": 0,
  "metadata": {
    "colab": {
      "name": "머신러닝 공부 20210220.ipynb",
      "provenance": [],
      "collapsed_sections": [],
      "mount_file_id": "1hsLRJK7wXp9afmeEK3-BJ7C8WHxCOr8M",
      "authorship_tag": "ABX9TyNm06hQd11WVIk9LX2T4k02",
      "include_colab_link": true
    },
    "kernelspec": {
      "name": "python3",
      "display_name": "Python 3"
    }
  },
  "cells": [
    {
      "cell_type": "markdown",
      "metadata": {
        "id": "view-in-github",
        "colab_type": "text"
      },
      "source": [
        "<a href=\"https://colab.research.google.com/github/HEON-WOOK/Portfolio2/blob/main/%EB%A8%B8%EC%8B%A0%EB%9F%AC%EB%8B%9D_%EA%B3%B5%EB%B6%80_20210220.ipynb\" target=\"_parent\"><img src=\"https://colab.research.google.com/assets/colab-badge.svg\" alt=\"Open In Colab\"/></a>"
      ]
    },
    {
      "cell_type": "code",
      "metadata": {
        "id": "K0wKVVJn8XtT"
      },
      "source": [
        "import pandas as pd"
      ],
      "execution_count": 2,
      "outputs": []
    },
    {
      "cell_type": "code",
      "metadata": {
        "id": "M8nYDDJF-AC8"
      },
      "source": [
        "bream_length = [25.4, 26.3, 26.5, 29.0, 29.0, 29.7, 29.7, 30.0, 30.0, 30.7, 31.0, 31.0, \r\n",
        "                31.5, 32.0, 32.0, 32.0, 33.0, 33.0, 33.5, 33.5, 34.0, 34.0, 34.5, 35.0, \r\n",
        "                35.0, 35.0, 35.0, 36.0, 36.0, 37.0, 38.5, 38.5, 39.5, 41.0, 41.0]\r\n",
        "bream_weight = [242.0, 290.0, 340.0, 363.0, 430.0, 450.0, 500.0, 390.0, 450.0, 500.0, 475.0, 500.0, \r\n",
        "                500.0, 340.0, 600.0, 600.0, 700.0, 700.0, 610.0, 650.0, 575.0, 685.0, 620.0, 680.0, \r\n",
        "                700.0, 725.0, 720.0, 714.0, 850.0, 1000.0, 920.0, 955.0, 925.0, 975.0, 950.0]"
      ],
      "execution_count": 3,
      "outputs": []
    },
    {
      "cell_type": "code",
      "metadata": {
        "colab": {
          "base_uri": "https://localhost:8080/",
          "height": 297
        },
        "id": "tBxwbz2AAAUq",
        "outputId": "1ec6a990-b01c-4d42-c5da-f39c9e42c01d"
      },
      "source": [
        "import matplotlib.pyplot as plt\r\n",
        "\r\n",
        "plt.scatter(bream_length,bream_weight)\r\n",
        "plt.xlabel('length')\r\n",
        "plt.ylabel('weight')\r\n",
        "plt.show"
      ],
      "execution_count": 4,
      "outputs": [
        {
          "output_type": "execute_result",
          "data": {
            "text/plain": [
              "<function matplotlib.pyplot.show>"
            ]
          },
          "metadata": {
            "tags": []
          },
          "execution_count": 4
        },
        {
          "output_type": "display_data",
          "data": {
            "image/png": "[encoded data removed]",
            "text/plain": [
              "<Figure size 432x288 with 1 Axes>"
            ]
          },
          "metadata": {
            "tags": [],
            "needs_background": "light"
          }
        }
      ]
    },
    {
      "cell_type": "code",
      "metadata": {
        "id": "4WHU_3BpBBxI"
      },
      "source": [
        "smelt_length = [9.8, 10.5, 10.6, 11.0, 11.2, 11.3, 11.8, 11.8, 12.0, 12.2, 12.4, 13.0, 14.3, 15.0]\r\n",
        "smelt_weight = [6.7, 7.5, 7.0, 9.7, 9.8, 8.7, 10.0, 9.9, 9.8, 12.2, 13.4, 12.2, 19.7, 19.9]"
      ],
      "execution_count": 5,
      "outputs": []
    },
    {
      "cell_type": "code",
      "metadata": {
        "colab": {
          "base_uri": "https://localhost:8080/",
          "height": 297
        },
        "id": "ufwd-eQtBD4o",
        "outputId": "3308fd67-e47d-4651-d7b7-caedbae4e776"
      },
      "source": [
        "plt.scatter(bream_length,bream_weight)\r\n",
        "plt.scatter(smelt_length,smelt_weight)\r\n",
        "plt.xlabel('length')\r\n",
        "plt.ylabel('weight')\r\n",
        "plt.show"
      ],
      "execution_count": 6,
      "outputs": [
        {
          "output_type": "execute_result",
          "data": {
            "text/plain": [
              "<function matplotlib.pyplot.show>"
            ]
          },
          "metadata": {
            "tags": []
          },
          "execution_count": 6
        },
        {
          "output_type": "display_data",
          "data": {
            "image/png": "[encoded data removed]",
            "text/plain": [
              "<Figure size 432x288 with 1 Axes>"
            ]
          },
          "metadata": {
            "tags": [],
            "needs_background": "light"
          }
        }
      ]
    },
    {
      "cell_type": "code",
      "metadata": {
        "colab": {
          "base_uri": "https://localhost:8080/"
        },
        "id": "r7wTwcHjAlK-",
        "outputId": "1a72a0c1-1f65-4904-a948-5d2d51aeb7b0"
      },
      "source": [
        "length = bream_length + smelt_length\r\n",
        "weight = bream_weight + smelt_weight\r\n",
        "\r\n",
        "fish_data = [[l,w] for l,w in zip(length,weight)]\r\n",
        "print(fish_data)"
      ],
      "execution_count": 9,
      "outputs": [
        {
          "output_type": "stream",
          "text": [
            "[[25.4, 242.0], [26.3, 290.0], [26.5, 340.0], [29.0, 363.0], [29.0, 430.0], [29.7, 450.0], [29.7, 500.0], [30.0, 390.0], [30.0, 450.0], [30.7, 500.0], [31.0, 475.0], [31.0, 500.0], [31.5, 500.0], [32.0, 340.0], [32.0, 600.0], [32.0, 600.0], [33.0, 700.0], [33.0, 700.0], [33.5, 610.0], [33.5, 650.0], [34.0, 575.0], [34.0, 685.0], [34.5, 620.0], [35.0, 680.0], [35.0, 700.0], [35.0, 725.0], [35.0, 720.0], [36.0, 714.0], [36.0, 850.0], [37.0, 1000.0], [38.5, 920.0], [38.5, 955.0], [39.5, 925.0], [41.0, 975.0], [41.0, 950.0], [9.8, 6.7], [10.5, 7.5], [10.6, 7.0], [11.0, 9.7], [11.2, 9.8], [11.3, 8.7], [11.8, 10.0], [11.8, 9.9], [12.0, 9.8], [12.2, 12.2], [12.4, 13.4], [13.0, 12.2], [14.3, 19.7], [15.0, 19.9]]\n"
          ],
          "name": "stdout"
        }
      ]
    },
    {
      "cell_type": "code",
      "metadata": {
        "colab": {
          "base_uri": "https://localhost:8080/"
        },
        "id": "pmcVHteKH0Of",
        "outputId": "2fc9c703-28ff-49c2-d5a9-424e421ecf6f"
      },
      "source": [
        "fish_target = [1]*35 + [0]*14\r\n",
        "print(fish_target)\r\n",
        "# 1번이면 도미 , 0번이면 빙어\r\n",
        "\r\n",
        "from sklearn.neighbors import KNeighborsClassifier\r\n",
        "kn = KNeighborsClassifier()\r\n",
        "kn.fit(fish_data,fish_target)\r\n",
        "kn.score(fish_data,fish_target)"
      ],
      "execution_count": 11,
      "outputs": [
        {
          "output_type": "stream",
          "text": [
            "[1, 1, 1, 1, 1, 1, 1, 1, 1, 1, 1, 1, 1, 1, 1, 1, 1, 1, 1, 1, 1, 1, 1, 1, 1, 1, 1, 1, 1, 1, 1, 1, 1, 1, 1, 0, 0, 0, 0, 0, 0, 0, 0, 0, 0, 0, 0, 0, 0]\n"
          ],
          "name": "stdout"
        },
        {
          "output_type": "execute_result",
          "data": {
            "text/plain": [
              "1.0"
            ]
          },
          "metadata": {
            "tags": []
          },
          "execution_count": 11
        }
      ]
    },
    {
      "cell_type": "code",
      "metadata": {
        "colab": {
          "base_uri": "https://localhost:8080/"
        },
        "id": "2EbmX5_BIce1",
        "outputId": "0ce6fe39-fae4-4022-b5c9-be2e11812e6a"
      },
      "source": [
        "kn.fit(fish_data,fish_target)\r\n",
        "kn.score(fish_data,fish_target)"
      ],
      "execution_count": 12,
      "outputs": [
        {
          "output_type": "execute_result",
          "data": {
            "text/plain": [
              "1.0"
            ]
          },
          "metadata": {
            "tags": []
          },
          "execution_count": 12
        }
      ]
    },
    {
      "cell_type": "code",
      "metadata": {
        "colab": {
          "base_uri": "https://localhost:8080/"
        },
        "id": "19WKQ9RrLAYR",
        "outputId": "3f85a24a-fe53-44ec-9bfb-e4c4dd3a193e"
      },
      "source": [
        "import numpy as np\r\n",
        "input_arr = np.array(fish_data)\r\n",
        "target_arr = np.array(fish_target)\r\n",
        "print(target_arr)"
      ],
      "execution_count": 13,
      "outputs": [
        {
          "output_type": "stream",
          "text": [
            "[1 1 1 1 1 1 1 1 1 1 1 1 1 1 1 1 1 1 1 1 1 1 1 1 1 1 1 1 1 1 1 1 1 1 1 0 0\n",
            " 0 0 0 0 0 0 0 0 0 0 0 0]\n"
          ],
          "name": "stdout"
        }
      ]
    },
    {
      "cell_type": "code",
      "metadata": {
        "colab": {
          "base_uri": "https://localhost:8080/"
        },
        "id": "gzd1jJz-U_45",
        "outputId": "7a433370-f688-4d3c-c7d0-f268c1380e58"
      },
      "source": [
        "np.random.seed(42)\r\n",
        "index = np.arange(49)\r\n",
        "np.random.shuffle(index)\r\n",
        "print(index)"
      ],
      "execution_count": 14,
      "outputs": [
        {
          "output_type": "stream",
          "text": [
            "[13 45 47 44 17 27 26 25 31 19 12  4 34  8  3  6 40 41 46 15  9 16 24 33\n",
            " 30  0 43 32  5 29 11 36  1 21  2 37 35 23 39 10 22 18 48 20  7 42 14 28\n",
            " 38]\n"
          ],
          "name": "stdout"
        }
      ]
    },
    {
      "cell_type": "code",
      "metadata": {
        "id": "xdw8o3IwU6y9"
      },
      "source": [
        "train_input = input_arr[index[:35]]\r\n",
        "train_target =target_arr[index[:35]]\r\n",
        "\r\n",
        "test_input = input_arr[index[35:]]\r\n",
        "test_target = target_arr[index[35:]]\r\n"
      ],
      "execution_count": 15,
      "outputs": []
    },
    {
      "cell_type": "code",
      "metadata": {
        "colab": {
          "base_uri": "https://localhost:8080/"
        },
        "id": "hMk7bcUrW8AY",
        "outputId": "ade5fccd-b22b-4780-f8ed-d758da51c3a3"
      },
      "source": [
        "train_input[:,0]"
      ],
      "execution_count": 19,
      "outputs": [
        {
          "output_type": "execute_result",
          "data": {
            "text/plain": [
              "array([32. , 12.4, 14.3, 12.2, 33. , 36. , 35. , 35. , 38.5, 33.5, 31.5,\n",
              "       29. , 41. , 30. , 29. , 29.7, 11.3, 11.8, 13. , 32. , 30.7, 33. ,\n",
              "       35. , 41. , 38.5, 25.4, 12. , 39.5, 29.7, 37. , 31. , 10.5, 26.3,\n",
              "       34. , 26.5])"
            ]
          },
          "metadata": {
            "tags": []
          },
          "execution_count": 19
        }
      ]
    },
    {
      "cell_type": "code",
      "metadata": {
        "colab": {
          "base_uri": "https://localhost:8080/",
          "height": 279
        },
        "id": "xTpbmLPoXD9K",
        "outputId": "cc752ced-fe82-4015-aaea-a813e33b8c6a"
      },
      "source": [
        "import matplotlib.pyplot as plt\r\n",
        "plt.scatter(train_input[:,0],train_input[:,1])\r\n",
        "plt.scatter(test_input[:,0],test_input[:,1])\r\n",
        "plt.xlabel('length')\r\n",
        "plt.ylabel('weight')\r\n",
        "plt.show()"
      ],
      "execution_count": null,
      "outputs": [
        {
          "output_type": "display_data",
          "data": {
            "image/png": "[encoded data removed]",
            "text/plain": [
              "<Figure size 432x288 with 1 Axes>"
            ]
          },
          "metadata": {
            "tags": [],
            "needs_background": "light"
          }
        }
      ]
    },
    {
      "cell_type": "code",
      "metadata": {
        "id": "TlfTe7ZFXSyf"
      },
      "source": [
        "kn = kn.fit(train_input,train_target)"
      ],
      "execution_count": 20,
      "outputs": []
    },
    {
      "cell_type": "code",
      "metadata": {
        "colab": {
          "base_uri": "https://localhost:8080/"
        },
        "id": "Q-A_jGdRYt9_",
        "outputId": "efd6c6aa-f22a-4ae7-a58c-408f0c91e873"
      },
      "source": [
        "kn.score(test_input,test_target)"
      ],
      "execution_count": 21,
      "outputs": [
        {
          "output_type": "execute_result",
          "data": {
            "text/plain": [
              "1.0"
            ]
          },
          "metadata": {
            "tags": []
          },
          "execution_count": 21
        }
      ]
    },
    {
      "cell_type": "code",
      "metadata": {
        "colab": {
          "base_uri": "https://localhost:8080/"
        },
        "id": "UgbDnTauaHip",
        "outputId": "37389e0e-3e8f-4270-905d-ed06c28a5b73"
      },
      "source": [
        "kn.predict(test_input)"
      ],
      "execution_count": 22,
      "outputs": [
        {
          "output_type": "execute_result",
          "data": {
            "text/plain": [
              "array([0, 0, 1, 0, 1, 1, 1, 0, 1, 1, 0, 1, 1, 0])"
            ]
          },
          "metadata": {
            "tags": []
          },
          "execution_count": 22
        }
      ]
    },
    {
      "cell_type": "code",
      "metadata": {
        "colab": {
          "base_uri": "https://localhost:8080/"
        },
        "id": "3sFHDwBgaPKj",
        "outputId": "6e014f2d-ec59-4a83-b890-2ae777ad5b5e"
      },
      "source": [
        "print(test_target)"
      ],
      "execution_count": null,
      "outputs": [
        {
          "output_type": "stream",
          "text": [
            "[0 0 1 0 1 1 1 0 1 1 0 1 1 0]\n"
          ],
          "name": "stdout"
        }
      ]
    },
    {
      "cell_type": "code",
      "metadata": {
        "id": "07DwmkWRMKzT"
      },
      "source": [
        "fish_length = [25.4, 26.3, 26.5, 29.0, 29.0, 29.7, 29.7, 30.0, 30.0, 30.7, 31.0, 31.0, \r\n",
        "                31.5, 32.0, 32.0, 32.0, 33.0, 33.0, 33.5, 33.5, 34.0, 34.0, 34.5, 35.0, \r\n",
        "                35.0, 35.0, 35.0, 36.0, 36.0, 37.0, 38.5, 38.5, 39.5, 41.0, 41.0, 9.8, \r\n",
        "                10.5, 10.6, 11.0, 11.2, 11.3, 11.8, 11.8, 12.0, 12.2, 12.4, 13.0, 14.3, 15.0]\r\n",
        "fish_weight = [242.0, 290.0, 340.0, 363.0, 430.0, 450.0, 500.0, 390.0, 450.0, 500.0, 475.0, 500.0, \r\n",
        "                500.0, 340.0, 600.0, 600.0, 700.0, 700.0, 610.0, 650.0, 575.0, 685.0, 620.0, 680.0, \r\n",
        "                700.0, 725.0, 720.0, 714.0, 850.0, 1000.0, 920.0, 955.0, 925.0, 975.0, 950.0, 6.7, \r\n",
        "                7.5, 7.0, 9.7, 9.8, 8.7, 10.0, 9.9, 9.8, 12.2, 13.4, 12.2, 19.7, 19.9]"
      ],
      "execution_count": null,
      "outputs": []
    },
    {
      "cell_type": "code",
      "metadata": {
        "colab": {
          "base_uri": "https://localhost:8080/"
        },
        "id": "xY7ttQT8MwPG",
        "outputId": "52834d03-69bb-4c98-dec1-e952f7f2c0f0"
      },
      "source": [
        "import numpy as np\r\n",
        "np.column_stack(([1,2,3],[4,5,6]))\r\n",
        "fish_data = np.column_stack((fish_length,fish_weight))\r\n",
        "fish_data"
      ],
      "execution_count": null,
      "outputs": [
        {
          "output_type": "execute_result",
          "data": {
            "text/plain": [
              "array([[  25.4,  242. ],\n",
              "       [  26.3,  290. ],\n",
              "       [  26.5,  340. ],\n",
              "       [  29. ,  363. ],\n",
              "       [  29. ,  430. ],\n",
              "       [  29.7,  450. ],\n",
              "       [  29.7,  500. ],\n",
              "       [  30. ,  390. ],\n",
              "       [  30. ,  450. ],\n",
              "       [  30.7,  500. ],\n",
              "       [  31. ,  475. ],\n",
              "       [  31. ,  500. ],\n",
              "       [  31.5,  500. ],\n",
              "       [  32. ,  340. ],\n",
              "       [  32. ,  600. ],\n",
              "       [  32. ,  600. ],\n",
              "       [  33. ,  700. ],\n",
              "       [  33. ,  700. ],\n",
              "       [  33.5,  610. ],\n",
              "       [  33.5,  650. ],\n",
              "       [  34. ,  575. ],\n",
              "       [  34. ,  685. ],\n",
              "       [  34.5,  620. ],\n",
              "       [  35. ,  680. ],\n",
              "       [  35. ,  700. ],\n",
              "       [  35. ,  725. ],\n",
              "       [  35. ,  720. ],\n",
              "       [  36. ,  714. ],\n",
              "       [  36. ,  850. ],\n",
              "       [  37. , 1000. ],\n",
              "       [  38.5,  920. ],\n",
              "       [  38.5,  955. ],\n",
              "       [  39.5,  925. ],\n",
              "       [  41. ,  975. ],\n",
              "       [  41. ,  950. ],\n",
              "       [   9.8,    6.7],\n",
              "       [  10.5,    7.5],\n",
              "       [  10.6,    7. ],\n",
              "       [  11. ,    9.7],\n",
              "       [  11.2,    9.8],\n",
              "       [  11.3,    8.7],\n",
              "       [  11.8,   10. ],\n",
              "       [  11.8,    9.9],\n",
              "       [  12. ,    9.8],\n",
              "       [  12.2,   12.2],\n",
              "       [  12.4,   13.4],\n",
              "       [  13. ,   12.2],\n",
              "       [  14.3,   19.7],\n",
              "       [  15. ,   19.9]])"
            ]
          },
          "metadata": {
            "tags": []
          },
          "execution_count": 30
        }
      ]
    },
    {
      "cell_type": "code",
      "metadata": {
        "colab": {
          "base_uri": "https://localhost:8080/"
        },
        "id": "yCR6JUa7OJS8",
        "outputId": "f1e4bdd0-399c-44b8-a4c5-704850d93290"
      },
      "source": [
        "print(np.ones(5))"
      ],
      "execution_count": null,
      "outputs": [
        {
          "output_type": "stream",
          "text": [
            "[1. 1. 1. 1. 1.]\n"
          ],
          "name": "stdout"
        }
      ]
    },
    {
      "cell_type": "code",
      "metadata": {
        "colab": {
          "base_uri": "https://localhost:8080/"
        },
        "id": "L3JQ-ISoONq5",
        "outputId": "cfcabcb8-7e77-4c28-b1de-ef32a1c56ba6"
      },
      "source": [
        "np.ones(35)\r\n",
        "np.zeros(14)\r\n",
        "\r\n",
        "fish_target = np.concatenate((np.ones(35),np.zeros(14)))\r\n",
        "print(fish_target)\r\n"
      ],
      "execution_count": null,
      "outputs": [
        {
          "output_type": "stream",
          "text": [
            "[1. 1. 1. 1. 1. 1. 1. 1. 1. 1. 1. 1. 1. 1. 1. 1. 1. 1. 1. 1. 1. 1. 1. 1.\n",
            " 1. 1. 1. 1. 1. 1. 1. 1. 1. 1. 1. 0. 0. 0. 0. 0. 0. 0. 0. 0. 0. 0. 0. 0.\n",
            " 0.]\n"
          ],
          "name": "stdout"
        }
      ]
    },
    {
      "cell_type": "code",
      "metadata": {
        "colab": {
          "base_uri": "https://localhost:8080/"
        },
        "id": "g_YtN1gFQS8l",
        "outputId": "7e5161ac-a620-4e9c-a053-7c75ac2b624e"
      },
      "source": [
        "from sklearn.model_selection import train_test_split\r\n",
        "\r\n",
        "train_input,test_input,train_target,test_target = train_test_split(fish_data,fish_target,random_state = 42)\r\n",
        "\r\n",
        "test_input\r\n",
        "test_target"
      ],
      "execution_count": null,
      "outputs": [
        {
          "output_type": "execute_result",
          "data": {
            "text/plain": [
              "array([1., 0., 0., 0., 1., 1., 1., 1., 1., 1., 1., 1., 1.])"
            ]
          },
          "metadata": {
            "tags": []
          },
          "execution_count": 48
        }
      ]
    },
    {
      "cell_type": "code",
      "metadata": {
        "colab": {
          "base_uri": "https://localhost:8080/"
        },
        "id": "8l9gYqnLRJNq",
        "outputId": "ffee56f8-d617-4775-c517-9c59a1a85186"
      },
      "source": [
        "train_input,test_input,train_target,test_target = train_test_split(fish_data,fish_target,random_state = 42,stratify = fish_target)\r\n",
        "print(test_target)"
      ],
      "execution_count": null,
      "outputs": [
        {
          "output_type": "stream",
          "text": [
            "[0. 0. 1. 0. 1. 0. 1. 1. 1. 1. 1. 1. 1.]\n"
          ],
          "name": "stdout"
        }
      ]
    },
    {
      "cell_type": "code",
      "metadata": {
        "colab": {
          "base_uri": "https://localhost:8080/"
        },
        "id": "wLR2W2KzREmh",
        "outputId": "de55c788-73e3-433e-b894-5ab88de47ba6"
      },
      "source": [
        "from sklearn.neighbors import KNeighborsClassifier\r\n",
        "kn = KNeighborsClassifier()\r\n",
        "kn.fit(train_input,train_target)\r\n",
        "kn.score(test_input,test_target)"
      ],
      "execution_count": null,
      "outputs": [
        {
          "output_type": "execute_result",
          "data": {
            "text/plain": [
              "1.0"
            ]
          },
          "metadata": {
            "tags": []
          },
          "execution_count": 51
        }
      ]
    },
    {
      "cell_type": "code",
      "metadata": {
        "colab": {
          "base_uri": "https://localhost:8080/"
        },
        "id": "7tlH2iYGSaGG",
        "outputId": "b8455330-7c11-42bc-d87a-fb1f0323ee5e"
      },
      "source": [
        "print(kn.predict([[25,150]]))"
      ],
      "execution_count": null,
      "outputs": [
        {
          "output_type": "stream",
          "text": [
            "[0.]\n"
          ],
          "name": "stdout"
        }
      ]
    },
    {
      "cell_type": "code",
      "metadata": {
        "colab": {
          "base_uri": "https://localhost:8080/",
          "height": 297
        },
        "id": "g9i4SSowSkB2",
        "outputId": "f706fa83-2df3-4c2e-9252-bbcf0545e148"
      },
      "source": [
        "import matplotlib.pyplot as plt\r\n",
        "plt.scatter(train_input[:,0],train_input[:,1])\r\n",
        "plt.scatter(25,150,marker = '^')\r\n",
        "plt.xlabel('length')\r\n",
        "plt.ylabel('weight')\r\n",
        "plt.show"
      ],
      "execution_count": null,
      "outputs": [
        {
          "output_type": "execute_result",
          "data": {
            "text/plain": [
              "<function matplotlib.pyplot.show>"
            ]
          },
          "metadata": {
            "tags": []
          },
          "execution_count": 53
        },
        {
          "output_type": "display_data",
          "data": {
            "image/png": "[encoded data removed]",
            "text/plain": [
              "<Figure size 432x288 with 1 Axes>"
            ]
          },
          "metadata": {
            "tags": [],
            "needs_background": "light"
          }
        }
      ]
    },
    {
      "cell_type": "code",
      "metadata": {
        "colab": {
          "base_uri": "https://localhost:8080/"
        },
        "id": "UeQ1F7I6UXf-",
        "outputId": "bc6cb282-b127-4bfa-d39e-71ba1c000126"
      },
      "source": [
        "distances , indexes = kn.kneighbors([[25,150]])"
      ],
      "execution_count": null,
      "outputs": [
        {
          "output_type": "execute_result",
          "data": {
            "text/plain": [
              "array([[ 92.00086956, 130.48375378, 130.73859415, 138.32150953,\n",
              "        138.39320793]])"
            ]
          },
          "metadata": {
            "tags": []
          },
          "execution_count": 57
        }
      ]
    },
    {
      "cell_type": "code",
      "metadata": {
        "id": "nFy8mO9nUpBq"
      },
      "source": [
        "plt.scatter()"
      ],
      "execution_count": null,
      "outputs": []
    }
  ]
}