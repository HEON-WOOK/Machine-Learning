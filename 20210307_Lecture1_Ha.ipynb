{
  "nbformat": 4,
  "nbformat_minor": 0,
  "metadata": {
    "colab": {
      "name": "20210307 Lecture1_Ha.ipynb",
      "provenance": [],
      "mount_file_id": "1S1F__EW2r6V0JQiS6zav_6ofNt6ORQo1",
      "authorship_tag": "ABX9TyORNyqboy3teO8xKQVnQ5nl",
      "include_colab_link": true
    },
    "kernelspec": {
      "name": "python3",
      "display_name": "Python 3"
    }
  },
  "cells": [
    {
      "cell_type": "markdown",
      "metadata": {
        "id": "view-in-github",
        "colab_type": "text"
      },
      "source": [
        "<a href=\"https://colab.research.google.com/github/HEON-WOOK/Portfolio2/blob/main/20210307_Lecture1_Ha.ipynb\" target=\"_parent\"><img src=\"https://colab.research.google.com/assets/colab-badge.svg\" alt=\"Open In Colab\"/></a>"
      ]
    },
    {
      "cell_type": "code",
      "metadata": {
        "colab": {
          "base_uri": "https://localhost:8080/",
          "height": 166
        },
        "id": "IKI7_W0CK8Xt",
        "outputId": "27399f8f-1fe8-419d-d850-bb9d98e2dded"
      },
      "source": [
        "import pandas as pd\r\n",
        "df = pd.read_table('/content/drive/MyDrive/colab/sample.txt')\r\n",
        "# ('../../sample.txt')\r\n",
        "df"
      ],
      "execution_count": null,
      "outputs": [
        {
          "output_type": "execute_result",
          "data": {
            "text/html": [
              "<div>\n",
              "<style scoped>\n",
              "    .dataframe tbody tr th:only-of-type {\n",
              "        vertical-align: middle;\n",
              "    }\n",
              "\n",
              "    .dataframe tbody tr th {\n",
              "        vertical-align: top;\n",
              "    }\n",
              "\n",
              "    .dataframe thead th {\n",
              "        text-align: right;\n",
              "    }\n",
              "</style>\n",
              "<table border=\"1\" class=\"dataframe\">\n",
              "  <thead>\n",
              "    <tr style=\"text-align: right;\">\n",
              "      <th></th>\n",
              "      <th>X</th>\n",
              "      <th>y</th>\n",
              "    </tr>\n",
              "  </thead>\n",
              "  <tbody>\n",
              "    <tr>\n",
              "      <th>0</th>\n",
              "      <td>10</td>\n",
              "      <td>2</td>\n",
              "    </tr>\n",
              "    <tr>\n",
              "      <th>1</th>\n",
              "      <td>15</td>\n",
              "      <td>3</td>\n",
              "    </tr>\n",
              "    <tr>\n",
              "      <th>2</th>\n",
              "      <td>20</td>\n",
              "      <td>6</td>\n",
              "    </tr>\n",
              "    <tr>\n",
              "      <th>3</th>\n",
              "      <td>40</td>\n",
              "      <td>5</td>\n",
              "    </tr>\n",
              "  </tbody>\n",
              "</table>\n",
              "</div>"
            ],
            "text/plain": [
              "    X  y\n",
              "0  10  2\n",
              "1  15  3\n",
              "2  20  6\n",
              "3  40  5"
            ]
          },
          "metadata": {
            "tags": []
          },
          "execution_count": 10
        }
      ]
    },
    {
      "cell_type": "code",
      "metadata": {
        "colab": {
          "base_uri": "https://localhost:8080/"
        },
        "id": "uwLlTFGWNlDR",
        "outputId": "f68c3ad3-5e3d-4a28-b674-3ddc3a342b77"
      },
      "source": [
        "from bs4 import BeautifulSoup\r\n",
        "soup = BeautifulSoup(\"<p>Some<b>bad<i>HTML\")\r\n",
        "print(soup.prettify())"
      ],
      "execution_count": null,
      "outputs": [
        {
          "output_type": "stream",
          "text": [
            "<html>\n",
            " <body>\n",
            "  <p>\n",
            "   Some\n",
            "   <b>\n",
            "    bad\n",
            "    <i>\n",
            "     HTML\n",
            "    </i>\n",
            "   </b>\n",
            "  </p>\n",
            " </body>\n",
            "</html>\n"
          ],
          "name": "stdout"
        }
      ]
    },
    {
      "cell_type": "code",
      "metadata": {
        "colab": {
          "base_uri": "https://localhost:8080/"
        },
        "id": "hm6qi3UbO0rO",
        "outputId": "34c69ded-d26f-48ef-edd9-8a87c24546f8"
      },
      "source": [
        "print(df)"
      ],
      "execution_count": null,
      "outputs": [
        {
          "output_type": "stream",
          "text": [
            "    X  y\n",
            "0  10  2\n",
            "1  15  3\n",
            "2  20  6\n",
            "3  40  5\n"
          ],
          "name": "stdout"
        }
      ]
    },
    {
      "cell_type": "code",
      "metadata": {
        "id": "htfCCpSAO8T4",
        "colab": {
          "base_uri": "https://localhost:8080/"
        },
        "outputId": "f3f18a13-5ccc-4846-f3e0-a71f38c6ac88"
      },
      "source": [
        "print('Hello Python')"
      ],
      "execution_count": 1,
      "outputs": [
        {
          "output_type": "stream",
          "text": [
            "Hello Python\n"
          ],
          "name": "stdout"
        }
      ]
    }
  ]
}