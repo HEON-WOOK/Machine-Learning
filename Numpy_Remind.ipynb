{
  "nbformat": 4,
  "nbformat_minor": 0,
  "metadata": {
    "colab": {
      "name": "Numpy Remind.ipynb",
      "provenance": [],
      "collapsed_sections": [],
      "authorship_tag": "ABX9TyOnz2Q9ijLWtqUGa3+NJ57u",
      "include_colab_link": true
    },
    "kernelspec": {
      "name": "python3",
      "display_name": "Python 3"
    },
    "language_info": {
      "name": "python"
    }
  },
  "cells": [
    {
      "cell_type": "markdown",
      "metadata": {
        "id": "view-in-github",
        "colab_type": "text"
      },
      "source": [
        "<a href=\"https://colab.research.google.com/github/HEON-WOOK/Machine-Learning/blob/main/Numpy_Remind.ipynb\" target=\"_parent\"><img src=\"https://colab.research.google.com/assets/colab-badge.svg\" alt=\"Open In Colab\"/></a>"
      ]
    },
    {
      "cell_type": "code",
      "metadata": {
        "id": "c1SiNxcxtAzE"
      },
      "source": [
        "import numpy as np\n",
        "import matplotlib.pyplot as plt "
      ],
      "execution_count": null,
      "outputs": []
    },
    {
      "cell_type": "code",
      "metadata": {
        "colab": {
          "base_uri": "https://localhost:8080/",
          "height": 282
        },
        "id": "CORpbgYytQ5q",
        "outputId": "5a6c4fee-e29d-49ea-99d8-dee2e9311fb3"
      },
      "source": [
        "x= np.array([1,2,3])\n",
        "y = np.array([2,4,6])\n",
        "\n",
        "plt.plot(x,y)"
      ],
      "execution_count": null,
      "outputs": [
        {
          "output_type": "execute_result",
          "data": {
            "text/plain": [
              "[<matplotlib.lines.Line2D at 0x7f81f29a02d0>]"
            ]
          },
          "metadata": {
            "tags": []
          },
          "execution_count": 3
        },
        {
          "output_type": "display_data",
          "data": {
            "image/png": "[encoded data removed]",
            "text/plain": [
              "<Figure size 432x288 with 1 Axes>"
            ]
          },
          "metadata": {
            "tags": [],
            "needs_background": "light"
          }
        }
      ]
    },
    {
      "cell_type": "code",
      "metadata": {
        "colab": {
          "base_uri": "https://localhost:8080/"
        },
        "id": "8zk8cPJItd5h",
        "outputId": "07924750-81ef-4522-87ca-5732ee592cc0"
      },
      "source": [
        "# np.array함수 생성하기\n",
        "x = np.array([1,2,3,4])\n",
        "print(x)\n",
        "\n",
        "y= np.array ([[2,3,4],[1,2,5]])\n",
        "print(y)\n",
        "\n",
        "print(type(y))"
      ],
      "execution_count": null,
      "outputs": [
        {
          "output_type": "stream",
          "text": [
            "[1 2 3 4]\n",
            "[[2 3 4]\n",
            " [1 2 5]]\n",
            "<class 'numpy.ndarray'>\n"
          ],
          "name": "stdout"
        }
      ]
    },
    {
      "cell_type": "code",
      "metadata": {
        "colab": {
          "base_uri": "https://localhost:8080/"
        },
        "id": "KxjBTQ9CtxFC",
        "outputId": "15f55e9e-ef7c-438e-a7d7-9d7b4673306d"
      },
      "source": [
        "# np.arange 함수로 생성하기\n",
        "np.arange(10)\n",
        "np.arange(1,10)"
      ],
      "execution_count": null,
      "outputs": [
        {
          "output_type": "execute_result",
          "data": {
            "text/plain": [
              "array([1, 2, 3, 4, 5, 6, 7, 8, 9])"
            ]
          },
          "metadata": {
            "tags": []
          },
          "execution_count": 12
        }
      ]
    },
    {
      "cell_type": "code",
      "metadata": {
        "colab": {
          "base_uri": "https://localhost:8080/"
        },
        "id": "WTy3rfGqt0w5",
        "outputId": "53d8abb8-b71b-475f-f2dc-fca2eb2faa57"
      },
      "source": [
        "np.arange(1,10,2)"
      ],
      "execution_count": null,
      "outputs": [
        {
          "output_type": "execute_result",
          "data": {
            "text/plain": [
              "array([1, 3, 5, 7, 9])"
            ]
          },
          "metadata": {
            "tags": []
          },
          "execution_count": 14
        }
      ]
    },
    {
      "cell_type": "code",
      "metadata": {
        "colab": {
          "base_uri": "https://localhost:8080/"
        },
        "id": "FhLTLOA2vxZ6",
        "outputId": "0aed19a3-d4c6-4d69-cc96-77ed06cf6992"
      },
      "source": [
        "np.arange(5,101,5)"
      ],
      "execution_count": null,
      "outputs": [
        {
          "output_type": "execute_result",
          "data": {
            "text/plain": [
              "array([  5,  10,  15,  20,  25,  30,  35,  40,  45,  50,  55,  60,  65,\n",
              "        70,  75,  80,  85,  90,  95, 100])"
            ]
          },
          "metadata": {
            "tags": []
          },
          "execution_count": 15
        }
      ]
    },
    {
      "cell_type": "code",
      "metadata": {
        "colab": {
          "base_uri": "https://localhost:8080/"
        },
        "id": "H7QRyxhQv3vS",
        "outputId": "40dc9b3d-d04a-43fa-f1ff-3cfc166b52d7"
      },
      "source": [
        "# np.ones, np.zeros 생성하기\n",
        "np.ones((4,5)) #Tuple Type input"
      ],
      "execution_count": null,
      "outputs": [
        {
          "output_type": "execute_result",
          "data": {
            "text/plain": [
              "array([[1., 1., 1., 1., 1.],\n",
              "       [1., 1., 1., 1., 1.],\n",
              "       [1., 1., 1., 1., 1.],\n",
              "       [1., 1., 1., 1., 1.]])"
            ]
          },
          "metadata": {
            "tags": []
          },
          "execution_count": 19
        }
      ]
    },
    {
      "cell_type": "code",
      "metadata": {
        "colab": {
          "base_uri": "https://localhost:8080/"
        },
        "id": "YlSmOddWwCFn",
        "outputId": "da538f68-9230-4f7f-9af2-d6501ea9c0a0"
      },
      "source": [
        "np.ones((2,3,4))"
      ],
      "execution_count": null,
      "outputs": [
        {
          "output_type": "execute_result",
          "data": {
            "text/plain": [
              "array([[[1., 1., 1., 1.],\n",
              "        [1., 1., 1., 1.],\n",
              "        [1., 1., 1., 1.]],\n",
              "\n",
              "       [[1., 1., 1., 1.],\n",
              "        [1., 1., 1., 1.],\n",
              "        [1., 1., 1., 1.]]])"
            ]
          },
          "metadata": {
            "tags": []
          },
          "execution_count": 18
        }
      ]
    },
    {
      "cell_type": "code",
      "metadata": {
        "colab": {
          "base_uri": "https://localhost:8080/"
        },
        "id": "x_x3UFp0wNm7",
        "outputId": "da03bca8-f62e-47ab-cb8e-873472cd3f0a"
      },
      "source": [
        "np.zeros((2,3))"
      ],
      "execution_count": null,
      "outputs": [
        {
          "output_type": "execute_result",
          "data": {
            "text/plain": [
              "array([[0., 0., 0.],\n",
              "       [0., 0., 0.]])"
            ]
          },
          "metadata": {
            "tags": []
          },
          "execution_count": 20
        }
      ]
    },
    {
      "cell_type": "code",
      "metadata": {
        "colab": {
          "base_uri": "https://localhost:8080/"
        },
        "id": "ZcV1AYf7wTg_",
        "outputId": "ed1c0e53-7d1e-4242-db85-a4a86375d735"
      },
      "source": [
        "#np.empty , np.full로 생성하기 \n",
        "np.empty((3,4)) # 초기화된 값이 입력"
      ],
      "execution_count": null,
      "outputs": [
        {
          "output_type": "execute_result",
          "data": {
            "text/plain": [
              "array([[ 4.67043137e-310,  4.67043128e-310,  0.00000000e+000,\n",
              "         0.00000000e+000],\n",
              "       [ 0.00000000e+000,  6.36598737e-314,  0.00000000e+000,\n",
              "         0.00000000e+000],\n",
              "       [ 0.00000000e+000,  0.00000000e+000,  0.00000000e+000,\n",
              "        -1.24743069e+189]])"
            ]
          },
          "metadata": {
            "tags": []
          },
          "execution_count": 21
        }
      ]
    },
    {
      "cell_type": "code",
      "metadata": {
        "colab": {
          "base_uri": "https://localhost:8080/"
        },
        "id": "rBzTfbxUwjUZ",
        "outputId": "743072c4-f7eb-4869-b66e-62b9d8686d59"
      },
      "source": [
        "np.full((3,4,2),7)"
      ],
      "execution_count": null,
      "outputs": [
        {
          "output_type": "execute_result",
          "data": {
            "text/plain": [
              "array([[[7, 7],\n",
              "        [7, 7],\n",
              "        [7, 7],\n",
              "        [7, 7]],\n",
              "\n",
              "       [[7, 7],\n",
              "        [7, 7],\n",
              "        [7, 7],\n",
              "        [7, 7]],\n",
              "\n",
              "       [[7, 7],\n",
              "        [7, 7],\n",
              "        [7, 7],\n",
              "        [7, 7]]])"
            ]
          },
          "metadata": {
            "tags": []
          },
          "execution_count": 22
        }
      ]
    },
    {
      "cell_type": "code",
      "metadata": {
        "colab": {
          "base_uri": "https://localhost:8080/"
        },
        "id": "w6NUSIvRwviE",
        "outputId": "7db32215-f401-4304-a9bf-adfe8f5f1b5c"
      },
      "source": [
        "# np.eye로 생성\n",
        "# 단위 행렬 생성 \n",
        "np.eye(3) # 3행3렬 함수 생성"
      ],
      "execution_count": null,
      "outputs": [
        {
          "output_type": "execute_result",
          "data": {
            "text/plain": [
              "array([[1., 0., 0.],\n",
              "       [0., 1., 0.],\n",
              "       [0., 0., 1.]])"
            ]
          },
          "metadata": {
            "tags": []
          },
          "execution_count": 25
        }
      ]
    },
    {
      "cell_type": "code",
      "metadata": {
        "colab": {
          "base_uri": "https://localhost:8080/"
        },
        "id": "FKh24NWCw5In",
        "outputId": "9be7c732-cea9-42ae-a02a-7984d1156f7e"
      },
      "source": [
        "#np.linspace로 생성하기\n",
        "np.linspace(1,10,3)\n",
        "# 1~10사이를 3개의 원소로 동일한 차이가 나게 만들기\n",
        "# 그래프 눈금 그릴때 주로 사용"
      ],
      "execution_count": null,
      "outputs": [
        {
          "output_type": "execute_result",
          "data": {
            "text/plain": [
              "array([ 1. ,  5.5, 10. ])"
            ]
          },
          "metadata": {
            "tags": []
          },
          "execution_count": 27
        }
      ]
    },
    {
      "cell_type": "code",
      "metadata": {
        "colab": {
          "base_uri": "https://localhost:8080/"
        },
        "id": "wO8TPmz7xlOf",
        "outputId": "3675fe9a-dd3c-4a52-bca2-27b10cdbfdcb"
      },
      "source": [
        "np.linspace(1,10,5)"
      ],
      "execution_count": null,
      "outputs": [
        {
          "output_type": "execute_result",
          "data": {
            "text/plain": [
              "array([ 1.  ,  3.25,  5.5 ,  7.75, 10.  ])"
            ]
          },
          "metadata": {
            "tags": []
          },
          "execution_count": 29
        }
      ]
    },
    {
      "cell_type": "code",
      "metadata": {
        "colab": {
          "base_uri": "https://localhost:8080/"
        },
        "id": "8whaBbDkx1xJ",
        "outputId": "78c4ee29-5deb-460f-ba8f-d1c3e3039d5b"
      },
      "source": [
        "### reshape 함수 활용\n",
        "# ndarray의 형태, 차원을 바꾸기 위해 사용\n",
        "# Reshape시 총 원소의 갯수를 확인할 것\n",
        "\n",
        "x = np.arange(1,16)\n",
        "print(x)\n",
        "x.shape\n",
        "print(x.reshape(3,5))\n",
        "print(x.reshape(5,3,1))"
      ],
      "execution_count": null,
      "outputs": [
        {
          "output_type": "stream",
          "text": [
            "[ 1  2  3  4  5  6  7  8  9 10 11 12 13 14 15]\n",
            "[[ 1  2  3  4  5]\n",
            " [ 6  7  8  9 10]\n",
            " [11 12 13 14 15]]\n",
            "[[[ 1]\n",
            "  [ 2]\n",
            "  [ 3]]\n",
            "\n",
            " [[ 4]\n",
            "  [ 5]\n",
            "  [ 6]]\n",
            "\n",
            " [[ 7]\n",
            "  [ 8]\n",
            "  [ 9]]\n",
            "\n",
            " [[10]\n",
            "  [11]\n",
            "  [12]]\n",
            "\n",
            " [[13]\n",
            "  [14]\n",
            "  [15]]]\n"
          ],
          "name": "stdout"
        }
      ]
    },
    {
      "cell_type": "code",
      "metadata": {
        "colab": {
          "base_uri": "https://localhost:8080/"
        },
        "id": "SDn1kFKSyNwL",
        "outputId": "d45c8178-b379-4e74-f08d-477a7a36a2d3"
      },
      "source": [
        "### Random 서브모듈\n",
        "# Rand 함수\n",
        "# 0,1사이의 분포로 랜덤한 ndarray 생성\n",
        "\n",
        "np.random.rand(2,3) # 2행3렬"
      ],
      "execution_count": null,
      "outputs": [
        {
          "output_type": "execute_result",
          "data": {
            "text/plain": [
              "array([[0.57077171, 0.02263261, 0.68761619],\n",
              "       [0.79967263, 0.50695539, 0.90266393]])"
            ]
          },
          "metadata": {
            "tags": []
          },
          "execution_count": 38
        }
      ]
    },
    {
      "cell_type": "code",
      "metadata": {
        "colab": {
          "base_uri": "https://localhost:8080/"
        },
        "id": "n3MUhIrEzmmQ",
        "outputId": "ccb83dc5-434f-41e2-fe2f-fdd4fe4e0c30"
      },
      "source": [
        "### randn함수\n",
        "# n : normal distriobution (정규분포)\n",
        "# 정규분포로 샘플링된 랜덤 ndarray생성\n",
        "\n",
        "np.random.randn(3,4)\n",
        "np.random.randn(3,4,2)"
      ],
      "execution_count": null,
      "outputs": [
        {
          "output_type": "execute_result",
          "data": {
            "text/plain": [
              "array([[[ 0.33298328,  0.04933181],\n",
              "        [ 0.26636283, -0.68672909],\n",
              "        [-1.43888344, -1.41320643],\n",
              "        [-0.56084036,  0.63210591]],\n",
              "\n",
              "       [[-0.77662974,  0.676868  ],\n",
              "        [-0.21100108, -1.06013234],\n",
              "        [ 0.56173338, -2.04309229],\n",
              "        [ 0.86007574,  0.82983115]],\n",
              "\n",
              "       [[ 0.6068977 ,  0.91825806],\n",
              "        [ 1.24300825, -0.21643763],\n",
              "        [ 1.50654667,  2.20355521],\n",
              "        [-0.36074152, -1.47999084]]])"
            ]
          },
          "metadata": {
            "tags": []
          },
          "execution_count": 40
        }
      ]
    },
    {
      "cell_type": "code",
      "metadata": {
        "colab": {
          "base_uri": "https://localhost:8080/"
        },
        "id": "V-KtA0Wj0KR6",
        "outputId": "2a0251e0-b05b-43d2-98b1-77783d8cb1f5"
      },
      "source": [
        "### randint 함수\n",
        "# 특정 정수 사이에서 랜덤하게 샘플링\n",
        "np.random.randint(1,10,size = (3,3,5))"
      ],
      "execution_count": null,
      "outputs": [
        {
          "output_type": "execute_result",
          "data": {
            "text/plain": [
              "array([[[7, 2, 7, 8, 4],\n",
              "        [9, 2, 1, 9, 5],\n",
              "        [3, 4, 5, 7, 9]],\n",
              "\n",
              "       [[2, 1, 4, 8, 1],\n",
              "        [7, 1, 5, 6, 3],\n",
              "        [9, 9, 4, 8, 8]],\n",
              "\n",
              "       [[6, 3, 8, 1, 6],\n",
              "        [4, 7, 4, 3, 6],\n",
              "        [2, 1, 7, 8, 8]]])"
            ]
          },
          "metadata": {
            "tags": []
          },
          "execution_count": 45
        }
      ]
    },
    {
      "cell_type": "code",
      "metadata": {
        "id": "5j8AYtrP0ixH"
      },
      "source": [
        "### seed 함수\n",
        "# 랜덤한 값을 동일하게 다시 생성하고자 할때 사용\n",
        "np.random.seed(100)\n"
      ],
      "execution_count": null,
      "outputs": []
    },
    {
      "cell_type": "code",
      "metadata": {
        "colab": {
          "base_uri": "https://localhost:8080/"
        },
        "id": "QCdXAtoX0irE",
        "outputId": "145c200e-8395-4593-f1fd-75340391292f"
      },
      "source": [
        "np.random.randint(1,10, size = (10))"
      ],
      "execution_count": null,
      "outputs": [
        {
          "output_type": "execute_result",
          "data": {
            "text/plain": [
              "array([9, 9, 4, 8, 8, 1, 5, 3, 6, 3])"
            ]
          },
          "metadata": {
            "tags": []
          },
          "execution_count": 55
        }
      ]
    },
    {
      "cell_type": "code",
      "metadata": {
        "id": "nmXo2SEe1nOk"
      },
      "source": [
        "### Choice \n",
        "# 주어진 1차원 ndarray로 부터 랜덤으로 샘플링\n",
        "# 정수가 주어진 경우, np.arange(해당숫자)로 간주"
      ],
      "execution_count": null,
      "outputs": []
    },
    {
      "cell_type": "code",
      "metadata": {
        "colab": {
          "base_uri": "https://localhost:8080/"
        },
        "id": "VYi8iFc22TVV",
        "outputId": "0f10961d-9314-4133-8843-eb071f843afe"
      },
      "source": [
        "x = np.array([1,2,3,1.5,2.6,4.9])\n",
        "np.random.choice(x,size=(2,2)) # Replace = Ture 기본값 (중복허용)"
      ],
      "execution_count": null,
      "outputs": [
        {
          "output_type": "execute_result",
          "data": {
            "text/plain": [
              "array([[1. , 2.6],\n",
              "       [1.5, 2.6]])"
            ]
          },
          "metadata": {
            "tags": []
          },
          "execution_count": 58
        }
      ]
    },
    {
      "cell_type": "code",
      "metadata": {
        "id": "y6xHeBpy25pu"
      },
      "source": [
        "### 확률분포에 따른 ndarray생성\n",
        "#uniform\n",
        "#normal"
      ],
      "execution_count": null,
      "outputs": []
    },
    {
      "cell_type": "code",
      "metadata": {
        "colab": {
          "base_uri": "https://localhost:8080/"
        },
        "id": "QxmIqx1_3NzW",
        "outputId": "9d1a8ee0-6069-47ee-97fc-dfc485f8a882"
      },
      "source": [
        "np.random.uniform(1.0,3.0,size=(4,5)) # 동일분포 .. ? "
      ],
      "execution_count": null,
      "outputs": [
        {
          "output_type": "execute_result",
          "data": {
            "text/plain": [
              "array([[1.77283822, 1.88092989, 1.80951466, 1.88450807, 1.06024656],\n",
              "       [2.55201063, 2.10191676, 1.76214681, 2.05853156, 2.9137538 ],\n",
              "       [1.35164262, 1.23660567, 2.72589134, 1.14973376, 2.65018972],\n",
              "       [2.67226363, 1.15078982, 1.02280158, 1.09684114, 1.71424542]])"
            ]
          },
          "metadata": {
            "tags": []
          },
          "execution_count": 62
        }
      ]
    },
    {
      "cell_type": "code",
      "metadata": {
        "colab": {
          "base_uri": "https://localhost:8080/"
        },
        "id": "Szv3e2F23Myg",
        "outputId": "247a6a87-7b36-40a2-8699-abc77d55e28e"
      },
      "source": [
        "np.random.normal(size=(4,5)) #정규분포를 따르는 랜덤함수"
      ],
      "execution_count": null,
      "outputs": [
        {
          "output_type": "execute_result",
          "data": {
            "text/plain": [
              "array([[ 0.16602374,  1.03809509, -1.05805624,  1.45086346, -0.57988297],\n",
              "       [ 2.52392365, -1.59535921, -0.3121006 , -0.29710829,  1.43256018],\n",
              "       [ 0.89627646,  0.55865884,  0.47574551, -0.13484635, -0.05976947],\n",
              "       [ 0.38891213,  2.09519213, -0.02596339,  0.28883586, -1.53816858]])"
            ]
          },
          "metadata": {
            "tags": []
          },
          "execution_count": 66
        }
      ]
    },
    {
      "cell_type": "code",
      "metadata": {
        "id": "aeX0VbDz3uTv"
      },
      "source": [
        "import numpy as np\n",
        "### 인덱싱\n",
        "# 파이선 리스트와 동일한 개념으로 사용\n",
        "#,를 사용하여 각 차원의 인덱스에 접근 가능"
      ],
      "execution_count": null,
      "outputs": []
    },
    {
      "cell_type": "code",
      "metadata": {
        "colab": {
          "base_uri": "https://localhost:8080/"
        },
        "id": "ODOU6G7dTDoN",
        "outputId": "c861b8cf-97cc-497a-b37e-5846b5194c7f"
      },
      "source": [
        "# 1차원 벡터 인덱싱\n",
        "x = np.arange(10)\n",
        "print(x)"
      ],
      "execution_count": null,
      "outputs": [
        {
          "output_type": "stream",
          "text": [
            "[0 1 2 3 4 5 6 7 8 9]\n"
          ],
          "name": "stdout"
        }
      ]
    },
    {
      "cell_type": "code",
      "metadata": {
        "colab": {
          "base_uri": "https://localhost:8080/"
        },
        "id": "hX8VQQu1TPBq",
        "outputId": "8e00dd1c-cf0e-4c8e-b104-64d0ced7ca25"
      },
      "source": [
        "x[3] "
      ],
      "execution_count": null,
      "outputs": [
        {
          "output_type": "execute_result",
          "data": {
            "text/plain": [
              "3"
            ]
          },
          "metadata": {
            "tags": []
          },
          "execution_count": 10
        }
      ]
    },
    {
      "cell_type": "code",
      "metadata": {
        "colab": {
          "base_uri": "https://localhost:8080/"
        },
        "id": "CqPD8TygTXBg",
        "outputId": "9a648305-09df-44c7-921c-316b6dd8d8ea"
      },
      "source": [
        "# 2차원 행렬 인덱싱\n",
        "x = np.arange(10).reshape(2,5)\n",
        "print(x)"
      ],
      "execution_count": null,
      "outputs": [
        {
          "output_type": "stream",
          "text": [
            "[[0 1 2 3 4]\n",
            " [5 6 7 8 9]]\n"
          ],
          "name": "stdout"
        }
      ]
    },
    {
      "cell_type": "code",
      "metadata": {
        "colab": {
          "base_uri": "https://localhost:8080/"
        },
        "id": "HO5XgqTCTq4g",
        "outputId": "63547151-949d-4e50-c062-e18f0c9494be"
      },
      "source": [
        "x[1,3]\n",
        "\n",
        "# 앞자리 행\n",
        "# 뒷자리 열 "
      ],
      "execution_count": null,
      "outputs": [
        {
          "output_type": "execute_result",
          "data": {
            "text/plain": [
              "8"
            ]
          },
          "metadata": {
            "tags": []
          },
          "execution_count": 19
        }
      ]
    },
    {
      "cell_type": "code",
      "metadata": {
        "colab": {
          "base_uri": "https://localhost:8080/"
        },
        "id": "Ev2SEEtET79x",
        "outputId": "55ad8b36-febb-4076-ea5a-3b21ebfc02d1"
      },
      "source": [
        "# 3차원 텐서 인덱싱\n",
        "x = np.arange(36).reshape(3,4,3)\n",
        "print(x)\n",
        "\n",
        "x[0,3,2]"
      ],
      "execution_count": null,
      "outputs": [
        {
          "output_type": "stream",
          "text": [
            "[[[ 0  1  2]\n",
            "  [ 3  4  5]\n",
            "  [ 6  7  8]\n",
            "  [ 9 10 11]]\n",
            "\n",
            " [[12 13 14]\n",
            "  [15 16 17]\n",
            "  [18 19 20]\n",
            "  [21 22 23]]\n",
            "\n",
            " [[24 25 26]\n",
            "  [27 28 29]\n",
            "  [30 31 32]\n",
            "  [33 34 35]]]\n"
          ],
          "name": "stdout"
        },
        {
          "output_type": "execute_result",
          "data": {
            "text/plain": [
              "11"
            ]
          },
          "metadata": {
            "tags": []
          },
          "execution_count": 23
        }
      ]
    },
    {
      "cell_type": "code",
      "metadata": {
        "id": "zOnArRMiVEgc"
      },
      "source": [
        "### 슬라이싱\n",
        "# 리스트, 문자열 slicing과 동일한 개념으로 사용\n",
        "# ,를 사용하여 각 차원 별로 슬라이싱 가능"
      ],
      "execution_count": null,
      "outputs": []
    },
    {
      "cell_type": "code",
      "metadata": {
        "id": "GdIQAwcOVTdS"
      },
      "source": [
        "# 1차원 벡터 슬라이싱\n",
        "x = np.arange(10)"
      ],
      "execution_count": null,
      "outputs": []
    },
    {
      "cell_type": "code",
      "metadata": {
        "colab": {
          "base_uri": "https://localhost:8080/"
        },
        "id": "rDFgCIdaV4c7",
        "outputId": "c34b6087-d211-4e1d-856f-5616c2719688"
      },
      "source": [
        "x[0:10] # 끝자리는 포함하지 않는다."
      ],
      "execution_count": null,
      "outputs": [
        {
          "output_type": "execute_result",
          "data": {
            "text/plain": [
              "array([0, 1, 2, 3, 4, 5, 6, 7, 8, 9])"
            ]
          },
          "metadata": {
            "tags": []
          },
          "execution_count": 30
        }
      ]
    },
    {
      "cell_type": "code",
      "metadata": {
        "colab": {
          "base_uri": "https://localhost:8080/"
        },
        "id": "eg8X1TXcV-RL",
        "outputId": "64756015-8627-43d0-f0ec-b06dae98f02c"
      },
      "source": [
        "#2차원 행렬 슬라이싱\n",
        "#슬라이싱으로 차원이 줄어들지 않는다\n",
        "x = np.arange(10).reshape(2,5)\n",
        "x[:,:2]"
      ],
      "execution_count": null,
      "outputs": [
        {
          "output_type": "execute_result",
          "data": {
            "text/plain": [
              "array([[0, 1],\n",
              "       [5, 6]])"
            ]
          },
          "metadata": {
            "tags": []
          },
          "execution_count": 40
        }
      ]
    },
    {
      "cell_type": "code",
      "metadata": {
        "colab": {
          "base_uri": "https://localhost:8080/"
        },
        "id": "BQzOETxgWuX7",
        "outputId": "135e4010-2c82-46c5-fbaf-4facda49d94e"
      },
      "source": [
        "x[:1,:2] #슬라이싱 후 2차원 유지"
      ],
      "execution_count": null,
      "outputs": [
        {
          "output_type": "execute_result",
          "data": {
            "text/plain": [
              "array([[0, 1]])"
            ]
          },
          "metadata": {
            "tags": []
          },
          "execution_count": 43
        }
      ]
    },
    {
      "cell_type": "code",
      "metadata": {
        "colab": {
          "base_uri": "https://localhost:8080/"
        },
        "id": "yq9co19wXGdP",
        "outputId": "dbad761a-b5b5-46fe-f3d6-6bd81d8d39bc"
      },
      "source": [
        "x[0,:2] #인덱싱 후 1차원 축소"
      ],
      "execution_count": null,
      "outputs": [
        {
          "output_type": "execute_result",
          "data": {
            "text/plain": [
              "array([0, 1])"
            ]
          },
          "metadata": {
            "tags": []
          },
          "execution_count": 46
        }
      ]
    },
    {
      "cell_type": "code",
      "metadata": {
        "colab": {
          "base_uri": "https://localhost:8080/"
        },
        "id": "H9i4PdC3XKW1",
        "outputId": "041b1957-1c60-450c-ed49-f68ca11f7a9a"
      },
      "source": [
        "#3차원 텐서 슬라이싱\n",
        "x = np.arange(54).reshape(2,9,3)\n",
        "print(x)"
      ],
      "execution_count": null,
      "outputs": [
        {
          "output_type": "stream",
          "text": [
            "[[[ 0  1  2]\n",
            "  [ 3  4  5]\n",
            "  [ 6  7  8]\n",
            "  [ 9 10 11]\n",
            "  [12 13 14]\n",
            "  [15 16 17]\n",
            "  [18 19 20]\n",
            "  [21 22 23]\n",
            "  [24 25 26]]\n",
            "\n",
            " [[27 28 29]\n",
            "  [30 31 32]\n",
            "  [33 34 35]\n",
            "  [36 37 38]\n",
            "  [39 40 41]\n",
            "  [42 43 44]\n",
            "  [45 46 47]\n",
            "  [48 49 50]\n",
            "  [51 52 53]]]\n"
          ],
          "name": "stdout"
        }
      ]
    },
    {
      "cell_type": "code",
      "metadata": {
        "colab": {
          "base_uri": "https://localhost:8080/"
        },
        "id": "WwP456-UXZtJ",
        "outputId": "c2423ac7-8351-4c24-db35-32b170659952"
      },
      "source": [
        "x[:1,0:4,:1]"
      ],
      "execution_count": null,
      "outputs": [
        {
          "output_type": "execute_result",
          "data": {
            "text/plain": [
              "array([[[0],\n",
              "        [3],\n",
              "        [6],\n",
              "        [9]]])"
            ]
          },
          "metadata": {
            "tags": []
          },
          "execution_count": 52
        }
      ]
    },
    {
      "cell_type": "code",
      "metadata": {
        "colab": {
          "base_uri": "https://localhost:8080/"
        },
        "id": "pRd5l1IUXsqI",
        "outputId": "cfce47df-46d2-492c-cd68-3ae7594b478d"
      },
      "source": [
        "x[:1,:2,:]"
      ],
      "execution_count": null,
      "outputs": [
        {
          "output_type": "execute_result",
          "data": {
            "text/plain": [
              "array([[[0, 1, 2],\n",
              "        [3, 4, 5]]])"
            ]
          },
          "metadata": {
            "tags": []
          },
          "execution_count": 54
        }
      ]
    },
    {
      "cell_type": "code",
      "metadata": {
        "id": "uKttBRtwX_39"
      },
      "source": [
        "### ndarray shape 변경하기\n",
        "### ravel,np.ravel\n",
        "# 다차원의 배열을 1차원으로 변경\n",
        "# 'Order'파라미터\n",
        "#  - 'C' - row 우선변경\n",
        "#  - 'F' - column 우선변경"
      ],
      "execution_count": null,
      "outputs": []
    },
    {
      "cell_type": "code",
      "metadata": {
        "colab": {
          "base_uri": "https://localhost:8080/"
        },
        "id": "oQAwJcT4YdL1",
        "outputId": "7ac52ff0-290e-442d-886d-b571525cde73"
      },
      "source": [
        "x = np.arange(15).reshape(3,5)\n",
        "print(x)"
      ],
      "execution_count": null,
      "outputs": [
        {
          "output_type": "stream",
          "text": [
            "[[ 0  1  2  3  4]\n",
            " [ 5  6  7  8  9]\n",
            " [10 11 12 13 14]]\n"
          ],
          "name": "stdout"
        }
      ]
    },
    {
      "cell_type": "code",
      "metadata": {
        "colab": {
          "base_uri": "https://localhost:8080/"
        },
        "id": "fBrWEqSMYq_W",
        "outputId": "7c377c7f-e563-43ce-c18f-f9e42ea72aba"
      },
      "source": [
        "temp = x.ravel()\n",
        "print(temp)\n",
        "\n",
        "temp[0] = 100\n",
        "print(temp)\n",
        "print(x)\n",
        "\n",
        "# Temp의 값만 바꿨는데 , 원본데이터까지 바뀜"
      ],
      "execution_count": null,
      "outputs": [
        {
          "output_type": "stream",
          "text": [
            "[100   1   2   3   4   5   6   7   8   9  10  11  12  13  14]\n",
            "[100   1   2   3   4   5   6   7   8   9  10  11  12  13  14]\n",
            "[[100   1   2   3   4]\n",
            " [  5   6   7   8   9]\n",
            " [ 10  11  12  13  14]]\n"
          ],
          "name": "stdout"
        }
      ]
    },
    {
      "cell_type": "code",
      "metadata": {
        "colab": {
          "base_uri": "https://localhost:8080/"
        },
        "id": "NmTmBlGzYvEA",
        "outputId": "82939363-b66a-4e73-b5e8-d7e8ea8d75e5"
      },
      "source": [
        "np.ravel(x,order='C')"
      ],
      "execution_count": null,
      "outputs": [
        {
          "output_type": "execute_result",
          "data": {
            "text/plain": [
              "array([100,   1,   2,   3,   4,   5,   6,   7,   8,   9,  10,  11,  12,\n",
              "        13,  14])"
            ]
          },
          "metadata": {
            "tags": []
          },
          "execution_count": 79
        }
      ]
    },
    {
      "cell_type": "code",
      "metadata": {
        "colab": {
          "base_uri": "https://localhost:8080/"
        },
        "id": "UnZT6V9sgiFj",
        "outputId": "be5888ab-80c6-4a2c-bd53-cd06b3b9ef72"
      },
      "source": [
        "np.ravel(x,order='F')"
      ],
      "execution_count": null,
      "outputs": [
        {
          "output_type": "execute_result",
          "data": {
            "text/plain": [
              "array([100,   5,  10,   1,   6,  11,   2,   7,  12,   3,   8,  13,   4,\n",
              "         9,  14])"
            ]
          },
          "metadata": {
            "tags": []
          },
          "execution_count": 78
        }
      ]
    },
    {
      "cell_type": "code",
      "metadata": {
        "id": "gSzbxyYoY1MQ"
      },
      "source": [
        "### flatten\n",
        "# 다차원의 배열을 1차원으로 변경\n",
        "# revel과의 차이점 : copy를 생성하여 변경함 (즉 원본 데이터가 아닌 복사본을 반환)\n",
        "# 'Order' 파라미터\n",
        "#  - 'C' - row 우선변경\n",
        "#  - 'F' - column 우선변경"
      ],
      "execution_count": null,
      "outputs": []
    },
    {
      "cell_type": "code",
      "metadata": {
        "colab": {
          "base_uri": "https://localhost:8080/"
        },
        "id": "RpGbDzK3ZmED",
        "outputId": "95499aea-2a72-4b9f-d0d7-dbc96beec38a"
      },
      "source": [
        "y = np.arange(15).reshape(3,5)\n",
        "print(y)"
      ],
      "execution_count": null,
      "outputs": [
        {
          "output_type": "stream",
          "text": [
            "[[ 0  1  2  3  4]\n",
            " [ 5  6  7  8  9]\n",
            " [10 11 12 13 14]]\n"
          ],
          "name": "stdout"
        }
      ]
    },
    {
      "cell_type": "code",
      "metadata": {
        "id": "m-gfAM8GgeNr"
      },
      "source": [
        ""
      ],
      "execution_count": null,
      "outputs": []
    },
    {
      "cell_type": "code",
      "metadata": {
        "colab": {
          "base_uri": "https://localhost:8080/"
        },
        "id": "1-caeF30ZnMG",
        "outputId": "139a5641-b9f1-4d5b-ba08-b588f5ec5130"
      },
      "source": [
        "temp2 = y.flatten()\n",
        "print(temp2)\n",
        "\n",
        "temp2[0] = 100\n",
        "print(temp2)\n",
        "print(y)\n",
        "\n",
        "# temp2 변경시 원본변경 없음 (복사본 사용)"
      ],
      "execution_count": null,
      "outputs": [
        {
          "output_type": "stream",
          "text": [
            "[ 0  1  2  3  4  5  6  7  8  9 10 11 12 13 14]\n",
            "[100   1   2   3   4   5   6   7   8   9  10  11  12  13  14]\n",
            "[[ 0  1  2  3  4]\n",
            " [ 5  6  7  8  9]\n",
            " [10 11 12 13 14]]\n"
          ],
          "name": "stdout"
        }
      ]
    },
    {
      "cell_type": "code",
      "metadata": {
        "colab": {
          "base_uri": "https://localhost:8080/"
        },
        "id": "kqLiNvGfZvil",
        "outputId": "f678cb4c-51bd-46d8-9187-54eaec1890b5"
      },
      "source": [
        "x = np.arange(30).reshape(2,3,5)\n",
        "print(x)"
      ],
      "execution_count": null,
      "outputs": [
        {
          "output_type": "stream",
          "text": [
            "[[[ 0  1  2  3  4]\n",
            "  [ 5  6  7  8  9]\n",
            "  [10 11 12 13 14]]\n",
            "\n",
            " [[15 16 17 18 19]\n",
            "  [20 21 22 23 24]\n",
            "  [25 26 27 28 29]]]\n"
          ],
          "name": "stdout"
        }
      ]
    },
    {
      "cell_type": "code",
      "metadata": {
        "colab": {
          "base_uri": "https://localhost:8080/"
        },
        "id": "E4VBRywyg7rO",
        "outputId": "6670583a-3ace-4ad4-e43e-4febddc84958"
      },
      "source": [
        "x.ravel()"
      ],
      "execution_count": null,
      "outputs": [
        {
          "output_type": "execute_result",
          "data": {
            "text/plain": [
              "array([ 0,  1,  2,  3,  4,  5,  6,  7,  8,  9, 10, 11, 12, 13, 14, 15, 16,\n",
              "       17, 18, 19, 20, 21, 22, 23, 24, 25, 26, 27, 28, 29])"
            ]
          },
          "metadata": {
            "tags": []
          },
          "execution_count": 83
        }
      ]
    },
    {
      "cell_type": "code",
      "metadata": {
        "colab": {
          "base_uri": "https://localhost:8080/"
        },
        "id": "FVsPg4uxg-f_",
        "outputId": "96845557-f7e1-4084-e11e-f200a0e1ce5c"
      },
      "source": [
        "### ndarray 기본함수 사용하기\n",
        "x = np.arange(15).reshape(3,5)\n",
        "y = np.random.rand(15).reshape(3,5)\n",
        "print(x)\n",
        "print(y)"
      ],
      "execution_count": null,
      "outputs": [
        {
          "output_type": "stream",
          "text": [
            "[[ 0  1  2  3  4]\n",
            " [ 5  6  7  8  9]\n",
            " [10 11 12 13 14]]\n",
            "[[0.03631229 0.4644384  0.08707806 0.64015239 0.78493332]\n",
            " [0.61189652 0.31518607 0.03542201 0.35349263 0.23314017]\n",
            " [0.69455154 0.24002549 0.25231326 0.23287005 0.85343387]]\n"
          ],
          "name": "stdout"
        }
      ]
    },
    {
      "cell_type": "code",
      "metadata": {
        "colab": {
          "base_uri": "https://localhost:8080/"
        },
        "id": "ihTv37jjjK_v",
        "outputId": "cdbcfae4-63f2-443b-fb3b-bd90cd46ef4c"
      },
      "source": [
        "# 연산 함수 (shape이 같아야 한다)\n",
        "np.add(x,y) # 인덱스가 같은 행렬끼리 더함\n"
      ],
      "execution_count": null,
      "outputs": [
        {
          "output_type": "execute_result",
          "data": {
            "text/plain": [
              "array([[ 0.03631229,  1.4644384 ,  2.08707806,  3.64015239,  4.78493332],\n",
              "       [ 5.61189652,  6.31518607,  7.03542201,  8.35349263,  9.23314017],\n",
              "       [10.69455154, 11.24002549, 12.25231326, 13.23287005, 14.85343387]])"
            ]
          },
          "metadata": {
            "tags": []
          },
          "execution_count": 89
        }
      ]
    },
    {
      "cell_type": "code",
      "metadata": {
        "colab": {
          "base_uri": "https://localhost:8080/"
        },
        "id": "XSwgBse-jiRR",
        "outputId": "125ce178-9e1d-4c14-8120-ba06a89b05c5"
      },
      "source": [
        "np.subtract(x,y)"
      ],
      "execution_count": null,
      "outputs": [
        {
          "output_type": "execute_result",
          "data": {
            "text/plain": [
              "array([[-0.03631229,  0.5355616 ,  1.91292194,  2.35984761,  3.21506668],\n",
              "       [ 4.38810348,  5.68481393,  6.96457799,  7.64650737,  8.76685983],\n",
              "       [ 9.30544846, 10.75997451, 11.74768674, 12.76712995, 13.14656613]])"
            ]
          },
          "metadata": {
            "tags": []
          },
          "execution_count": 95
        }
      ]
    },
    {
      "cell_type": "code",
      "metadata": {
        "colab": {
          "base_uri": "https://localhost:8080/"
        },
        "id": "4llDDJY2jmv1",
        "outputId": "0c5808f1-1134-4a24-cb3a-6b7cd1fbf26b"
      },
      "source": [
        "np.multiply(x,y)"
      ],
      "execution_count": null,
      "outputs": [
        {
          "output_type": "execute_result",
          "data": {
            "text/plain": [
              "array([[ 0.        ,  0.4644384 ,  0.17415612,  1.92045717,  3.13973328],\n",
              "       [ 3.05948258,  1.89111643,  0.24795405,  2.82794106,  2.09826153],\n",
              "       [ 6.94551544,  2.6402804 ,  3.02775906,  3.02731062, 11.94807421]])"
            ]
          },
          "metadata": {
            "tags": []
          },
          "execution_count": 97
        }
      ]
    },
    {
      "cell_type": "code",
      "metadata": {
        "colab": {
          "base_uri": "https://localhost:8080/"
        },
        "id": "w3irW1npkCEj",
        "outputId": "7fbb27a5-cafa-42cb-e1a3-7a3f8dc7df31"
      },
      "source": [
        "np.divide(x,y)"
      ],
      "execution_count": null,
      "outputs": [
        {
          "output_type": "execute_result",
          "data": {
            "text/plain": [
              "array([[  0.        ,   2.15313807,  22.96789828,   4.68638413,\n",
              "          5.09597426],\n",
              "       [  8.17131634,  19.03637416, 197.617264  ,  22.63130619,\n",
              "         38.60338616],\n",
              "       [ 14.39777953,  45.82846576,  47.55992703,  55.82512697,\n",
              "         16.40431727]])"
            ]
          },
          "metadata": {
            "tags": []
          },
          "execution_count": 99
        }
      ]
    },
    {
      "cell_type": "code",
      "metadata": {
        "id": "Nzd1-71GkJuP"
      },
      "source": [
        "#연산자 이용가능 (x+y,x-y ..)"
      ],
      "execution_count": null,
      "outputs": []
    },
    {
      "cell_type": "code",
      "metadata": {
        "id": "OYGEVpJTkOKj"
      },
      "source": [
        "### 통계함수\n",
        "# 평균,분산,중앙,최대,최소값 등등 통계 관련된 함수가 내장"
      ],
      "execution_count": null,
      "outputs": []
    },
    {
      "cell_type": "code",
      "metadata": {
        "colab": {
          "base_uri": "https://localhost:8080/"
        },
        "id": "MwGlal1wkZi5",
        "outputId": "b918c856-5ede-45be-ee25-262c2f9857a0"
      },
      "source": [
        "print(y)"
      ],
      "execution_count": null,
      "outputs": [
        {
          "output_type": "stream",
          "text": [
            "[[0.03631229 0.4644384  0.08707806 0.64015239 0.78493332]\n",
            " [0.61189652 0.31518607 0.03542201 0.35349263 0.23314017]\n",
            " [0.69455154 0.24002549 0.25231326 0.23287005 0.85343387]]\n"
          ],
          "name": "stdout"
        }
      ]
    },
    {
      "cell_type": "code",
      "metadata": {
        "colab": {
          "base_uri": "https://localhost:8080/"
        },
        "id": "WUhcliIKkcOE",
        "outputId": "a5a1c4e9-36fe-4c46-f009-5e67f2319a20"
      },
      "source": [
        "np.mean(y)\n",
        "y.mean()"
      ],
      "execution_count": null,
      "outputs": [
        {
          "output_type": "execute_result",
          "data": {
            "text/plain": [
              "0.3890164044804271"
            ]
          },
          "metadata": {
            "tags": []
          },
          "execution_count": 104
        }
      ]
    },
    {
      "cell_type": "code",
      "metadata": {
        "colab": {
          "base_uri": "https://localhost:8080/"
        },
        "id": "yRNcD_pBkiGb",
        "outputId": "91686569-c8fc-4ef0-a361-8c8603562e66"
      },
      "source": [
        "np.max(y)"
      ],
      "execution_count": null,
      "outputs": [
        {
          "output_type": "execute_result",
          "data": {
            "text/plain": [
              "0.8534338718631406"
            ]
          },
          "metadata": {
            "tags": []
          },
          "execution_count": 105
        }
      ]
    },
    {
      "cell_type": "code",
      "metadata": {
        "colab": {
          "base_uri": "https://localhost:8080/"
        },
        "id": "O2rP0nJjknBQ",
        "outputId": "bb3b1780-915b-4cd1-d8b8-8d608e75788f"
      },
      "source": [
        "np.argmax(y) # Flatten한 상태라고 가정한 후 진행"
      ],
      "execution_count": null,
      "outputs": [
        {
          "output_type": "execute_result",
          "data": {
            "text/plain": [
              "14"
            ]
          },
          "metadata": {
            "tags": []
          },
          "execution_count": 107
        }
      ]
    },
    {
      "cell_type": "code",
      "metadata": {
        "colab": {
          "base_uri": "https://localhost:8080/"
        },
        "id": "w_DHXkvRk4P-",
        "outputId": "84eb2a20-e7c3-41fc-89f1-d4213fd3d067"
      },
      "source": [
        "np.argmin(y)"
      ],
      "execution_count": null,
      "outputs": [
        {
          "output_type": "execute_result",
          "data": {
            "text/plain": [
              "7"
            ]
          },
          "metadata": {
            "tags": []
          },
          "execution_count": 109
        }
      ]
    },
    {
      "cell_type": "code",
      "metadata": {
        "colab": {
          "base_uri": "https://localhost:8080/"
        },
        "id": "9fNmnv4rlSxI",
        "outputId": "84b4bd80-db2e-47f2-beeb-02a59c39630e"
      },
      "source": [
        "np.var(y),np.median(y),np.std(y)"
      ],
      "execution_count": null,
      "outputs": [
        {
          "output_type": "execute_result",
          "data": {
            "text/plain": [
              "(0.06807285016035919, 0.315186072144662, 0.2609077426224818)"
            ]
          },
          "metadata": {
            "tags": []
          },
          "execution_count": 111
        }
      ]
    },
    {
      "cell_type": "code",
      "metadata": {
        "id": "iTIkD5yflrOj"
      },
      "source": [
        "### 집계함수\n",
        "# 합계(sum),누적합계(cumsum)등등 계산 가능"
      ],
      "execution_count": null,
      "outputs": []
    },
    {
      "cell_type": "code",
      "metadata": {
        "colab": {
          "base_uri": "https://localhost:8080/"
        },
        "id": "hZSlKKBTl63p",
        "outputId": "7aa58d0c-d1fc-48e0-c04e-a0318f98216d"
      },
      "source": [
        "np.sum(y)"
      ],
      "execution_count": null,
      "outputs": [
        {
          "output_type": "execute_result",
          "data": {
            "text/plain": [
              "5.835246067206407"
            ]
          },
          "metadata": {
            "tags": []
          },
          "execution_count": 116
        }
      ]
    },
    {
      "cell_type": "code",
      "metadata": {
        "colab": {
          "base_uri": "https://localhost:8080/"
        },
        "id": "tYV--jECmBkP",
        "outputId": "3c930de6-6642-4dc1-a02c-06bba66ce699"
      },
      "source": [
        "np.cumsum(y) #누적 그래프를 사용할때 좋다"
      ],
      "execution_count": null,
      "outputs": [
        {
          "output_type": "execute_result",
          "data": {
            "text/plain": [
              "array([0.03631229, 0.50075069, 0.58782875, 1.22798114, 2.01291446,\n",
              "       2.62481098, 2.93999705, 2.97541906, 3.32891169, 3.56205186,\n",
              "       4.2566034 , 4.49662889, 4.74894215, 4.9818122 , 5.83524607])"
            ]
          },
          "metadata": {
            "tags": []
          },
          "execution_count": 118
        }
      ]
    },
    {
      "cell_type": "code",
      "metadata": {
        "colab": {
          "base_uri": "https://localhost:8080/"
        },
        "id": "P_7DDXh1mDMJ",
        "outputId": "230b57b4-a619-440f-fc4a-1cb689583bc9"
      },
      "source": [
        "np.sum(y,axis=0)"
      ],
      "execution_count": null,
      "outputs": [
        {
          "output_type": "execute_result",
          "data": {
            "text/plain": [
              "array([1.34276035, 1.01964996, 0.37481332, 1.22651507, 1.87150736])"
            ]
          },
          "metadata": {
            "tags": []
          },
          "execution_count": 120
        }
      ]
    },
    {
      "cell_type": "code",
      "metadata": {
        "colab": {
          "base_uri": "https://localhost:8080/"
        },
        "id": "BKt6RYhWmYmv",
        "outputId": "71a9f214-c86b-49b9-c0c1-dd45e8a45f4f"
      },
      "source": [
        "np.sum(y,axis=1)"
      ],
      "execution_count": null,
      "outputs": [
        {
          "output_type": "execute_result",
          "data": {
            "text/plain": [
              "array([2.01291446, 1.5491374 , 2.27319421])"
            ]
          },
          "metadata": {
            "tags": []
          },
          "execution_count": 121
        }
      ]
    },
    {
      "cell_type": "code",
      "metadata": {
        "id": "O93iy2Z6mbZI"
      },
      "source": [
        "### any,all 함수\n",
        "# any : 특정 조건을 만족하는 것이 하나라도 있으면 True , 아니면 False\n",
        "# all : 모든 원소가 특정 조건을 만족한다면 True, 아니면 False "
      ],
      "execution_count": null,
      "outputs": []
    },
    {
      "cell_type": "code",
      "metadata": {
        "colab": {
          "base_uri": "https://localhost:8080/"
        },
        "id": "o9bTGVurnl73",
        "outputId": "a439d9d6-a0b5-4f9d-f36e-e3d875c60d18"
      },
      "source": [
        "z = np.random.randn(10)\n",
        "print(z)"
      ],
      "execution_count": null,
      "outputs": [
        {
          "output_type": "stream",
          "text": [
            "[-0.53995486 -0.93656023  1.38053803  0.14075414 -1.12049254 -0.91344111\n",
            "  1.37314687  1.28677999  0.96746155  0.75019978]\n"
          ],
          "name": "stdout"
        }
      ]
    },
    {
      "cell_type": "code",
      "metadata": {
        "colab": {
          "base_uri": "https://localhost:8080/"
        },
        "id": "H_kgyH2Rny9r",
        "outputId": "fcfdc65b-9b85-4e3b-8019-257e45ef314e"
      },
      "source": [
        "np.any(z>0)"
      ],
      "execution_count": null,
      "outputs": [
        {
          "output_type": "execute_result",
          "data": {
            "text/plain": [
              "True"
            ]
          },
          "metadata": {
            "tags": []
          },
          "execution_count": 125
        }
      ]
    },
    {
      "cell_type": "code",
      "metadata": {
        "colab": {
          "base_uri": "https://localhost:8080/"
        },
        "id": "mxpo7V5Tn5D9",
        "outputId": "bff26965-724f-4eb0-a83b-bac311c336b2"
      },
      "source": [
        "z>0"
      ],
      "execution_count": null,
      "outputs": [
        {
          "output_type": "execute_result",
          "data": {
            "text/plain": [
              "array([False, False,  True,  True, False, False,  True,  True,  True,\n",
              "        True])"
            ]
          },
          "metadata": {
            "tags": []
          },
          "execution_count": 127
        }
      ]
    },
    {
      "cell_type": "code",
      "metadata": {
        "colab": {
          "base_uri": "https://localhost:8080/"
        },
        "id": "n1HGVkwvn6Lj",
        "outputId": "f68bd112-bcc7-4cab-a971-7c69fbaa7d0a"
      },
      "source": [
        "np.all(z>0)"
      ],
      "execution_count": null,
      "outputs": [
        {
          "output_type": "execute_result",
          "data": {
            "text/plain": [
              "False"
            ]
          },
          "metadata": {
            "tags": []
          },
          "execution_count": 129
        }
      ]
    },
    {
      "cell_type": "code",
      "metadata": {
        "colab": {
          "base_uri": "https://localhost:8080/"
        },
        "id": "ZC3V5YVSn_vq",
        "outputId": "9b2202e1-6279-4afe-91fc-76fb14e37169"
      },
      "source": [
        "z>0"
      ],
      "execution_count": null,
      "outputs": [
        {
          "output_type": "execute_result",
          "data": {
            "text/plain": [
              "array([False, False,  True,  True, False, False,  True,  True,  True,\n",
              "        True])"
            ]
          },
          "metadata": {
            "tags": []
          },
          "execution_count": 130
        }
      ]
    },
    {
      "cell_type": "code",
      "metadata": {
        "id": "0ZVoXcHjoAUd"
      },
      "source": [
        "### Where 함수\n",
        "# 조건에 따라 선별적으로 값을 선택 가능\n",
        "#사용 예) 음수인 경우는 0, 나머지는 그대로 값을 쓰는 경우"
      ],
      "execution_count": null,
      "outputs": []
    },
    {
      "cell_type": "code",
      "metadata": {
        "colab": {
          "base_uri": "https://localhost:8080/"
        },
        "id": "gJDUU0TyoSIX",
        "outputId": "e62bb441-a082-44a7-fd0e-9951bd69429d"
      },
      "source": [
        "z = np.random.randn(10)\n",
        "print(z)"
      ],
      "execution_count": null,
      "outputs": [
        {
          "output_type": "stream",
          "text": [
            "[ 1.41375933  0.71698082  0.71944365 -1.92180971  0.31271363 -0.94953881\n",
            " -0.06423927  0.36394501  0.7031002  -0.36313142]\n"
          ],
          "name": "stdout"
        }
      ]
    },
    {
      "cell_type": "code",
      "metadata": {
        "colab": {
          "base_uri": "https://localhost:8080/"
        },
        "id": "XexkIcyeoUjd",
        "outputId": "5b461d8f-a5c3-42f8-c121-adfe82f41123"
      },
      "source": [
        "np.where(z>0,z,0) # 파라미터 (조건,참일때 값, 거짓일때 값)"
      ],
      "execution_count": null,
      "outputs": [
        {
          "output_type": "execute_result",
          "data": {
            "text/plain": [
              "array([1.41375933, 0.71698082, 0.71944365, 0.        , 0.31271363,\n",
              "       0.        , 0.        , 0.36394501, 0.7031002 , 0.        ])"
            ]
          },
          "metadata": {
            "tags": []
          },
          "execution_count": 135
        }
      ]
    },
    {
      "cell_type": "code",
      "metadata": {
        "id": "qUx8xVWLoaeD"
      },
      "source": [
        "### axis(축) 이해\n",
        "# axis 이해하기\n",
        "\n",
        "# 몇몇 함수에는 axis keyword파라미터가 존재\n",
        "# axis값이 없는 경우에는 전체 데이터에 대해 적용\n",
        "# axis값이 있는 경우에는 해당 axis를 따라서 연산 적용"
      ],
      "execution_count": null,
      "outputs": []
    },
    {
      "cell_type": "code",
      "metadata": {
        "colab": {
          "base_uri": "https://localhost:8080/"
        },
        "id": "qon48akYpWyd",
        "outputId": "469724fb-b46f-4c4c-96e9-65d21b70e445"
      },
      "source": [
        "x = np.arange(15)\n",
        "print(x)"
      ],
      "execution_count": null,
      "outputs": [
        {
          "output_type": "stream",
          "text": [
            "[ 0  1  2  3  4  5  6  7  8  9 10 11 12 13 14]\n"
          ],
          "name": "stdout"
        }
      ]
    },
    {
      "cell_type": "code",
      "metadata": {
        "colab": {
          "base_uri": "https://localhost:8080/"
        },
        "id": "4K4dlEREpovn",
        "outputId": "7db202c2-aa05-4831-9f52-e90c174c7ee2"
      },
      "source": [
        "# 1차원 데이터에 적용하기\n",
        "np.sum(x)"
      ],
      "execution_count": null,
      "outputs": [
        {
          "output_type": "execute_result",
          "data": {
            "text/plain": [
              "105"
            ]
          },
          "metadata": {
            "tags": []
          },
          "execution_count": 138
        }
      ]
    },
    {
      "cell_type": "code",
      "metadata": {
        "colab": {
          "base_uri": "https://localhost:8080/"
        },
        "id": "tkullfIXpwvC",
        "outputId": "8829e1d8-b820-4083-b18e-ac5112907011"
      },
      "source": [
        "np.sum(x,axis = 0) #(1차원 벡터는 axis의 영향을 받지 않는다)"
      ],
      "execution_count": null,
      "outputs": [
        {
          "output_type": "execute_result",
          "data": {
            "text/plain": [
              "105"
            ]
          },
          "metadata": {
            "tags": []
          },
          "execution_count": 140
        }
      ]
    },
    {
      "cell_type": "code",
      "metadata": {
        "id": "bcaN7hAWp1zR",
        "colab": {
          "base_uri": "https://localhost:8080/"
        },
        "outputId": "e73679ca-daaa-4424-e40b-24943bc0b063"
      },
      "source": [
        "import numpy as np\n",
        "x = np.arange(15)\n",
        "y = x.reshape(3,5)\n",
        "print(y)"
      ],
      "execution_count": null,
      "outputs": [
        {
          "output_type": "stream",
          "text": [
            "[[ 0  1  2  3  4]\n",
            " [ 5  6  7  8  9]\n",
            " [10 11 12 13 14]]\n"
          ],
          "name": "stdout"
        }
      ]
    },
    {
      "cell_type": "code",
      "metadata": {
        "id": "_YQgpk6av7Aw"
      },
      "source": [
        "# 2차원 향행렬에 적용하기"
      ],
      "execution_count": null,
      "outputs": []
    },
    {
      "cell_type": "code",
      "metadata": {
        "colab": {
          "base_uri": "https://localhost:8080/"
        },
        "id": "riVYPX9gwHB1",
        "outputId": "ad37a2db-ece3-4192-c605-1e0447c8d8d3"
      },
      "source": [
        "np.sum(y,axis=0)"
      ],
      "execution_count": null,
      "outputs": [
        {
          "output_type": "execute_result",
          "data": {
            "text/plain": [
              "array([15, 18, 21, 24, 27])"
            ]
          },
          "metadata": {
            "tags": []
          },
          "execution_count": 148
        }
      ]
    },
    {
      "cell_type": "code",
      "metadata": {
        "colab": {
          "base_uri": "https://localhost:8080/"
        },
        "id": "evRAVGfqwTJb",
        "outputId": "468b93c8-44ea-46c2-9932-001da0f15d84"
      },
      "source": [
        "np.sum(y,axis=1)"
      ],
      "execution_count": null,
      "outputs": [
        {
          "output_type": "execute_result",
          "data": {
            "text/plain": [
              "array([10, 35, 60])"
            ]
          },
          "metadata": {
            "tags": []
          },
          "execution_count": 149
        }
      ]
    },
    {
      "cell_type": "code",
      "metadata": {
        "id": "B7GYycWGwc38"
      },
      "source": [
        "# 3차원 텐서에 적용하기"
      ],
      "execution_count": null,
      "outputs": []
    },
    {
      "cell_type": "code",
      "metadata": {
        "colab": {
          "base_uri": "https://localhost:8080/"
        },
        "id": "wZUUdi5owj6L",
        "outputId": "4e853fcc-ecda-488f-ac18-ddefe6afe891"
      },
      "source": [
        "z = np.arange(36).reshape(3,4,3)\n",
        "print(z)"
      ],
      "execution_count": null,
      "outputs": [
        {
          "output_type": "stream",
          "text": [
            "[[[ 0  1  2]\n",
            "  [ 3  4  5]\n",
            "  [ 6  7  8]\n",
            "  [ 9 10 11]]\n",
            "\n",
            " [[12 13 14]\n",
            "  [15 16 17]\n",
            "  [18 19 20]\n",
            "  [21 22 23]]\n",
            "\n",
            " [[24 25 26]\n",
            "  [27 28 29]\n",
            "  [30 31 32]\n",
            "  [33 34 35]]]\n"
          ],
          "name": "stdout"
        }
      ]
    },
    {
      "cell_type": "code",
      "metadata": {
        "colab": {
          "base_uri": "https://localhost:8080/"
        },
        "id": "iN7W863jwotk",
        "outputId": "24cb49c7-0a42-4609-a225-539f660bf13f"
      },
      "source": [
        "np.sum(z,axis=0)"
      ],
      "execution_count": null,
      "outputs": [
        {
          "output_type": "execute_result",
          "data": {
            "text/plain": [
              "array([[36, 39, 42],\n",
              "       [45, 48, 51],\n",
              "       [54, 57, 60],\n",
              "       [63, 66, 69]])"
            ]
          },
          "metadata": {
            "tags": []
          },
          "execution_count": 153
        }
      ]
    },
    {
      "cell_type": "code",
      "metadata": {
        "colab": {
          "base_uri": "https://localhost:8080/"
        },
        "id": "1wnswqeiw3cB",
        "outputId": "84aef585-b7cc-46bc-baa8-7cdf0eeb46d7"
      },
      "source": [
        "np.sum(z,axis=1)"
      ],
      "execution_count": null,
      "outputs": [
        {
          "output_type": "execute_result",
          "data": {
            "text/plain": [
              "array([[ 18,  22,  26],\n",
              "       [ 66,  70,  74],\n",
              "       [114, 118, 122]])"
            ]
          },
          "metadata": {
            "tags": []
          },
          "execution_count": 154
        }
      ]
    },
    {
      "cell_type": "code",
      "metadata": {
        "colab": {
          "base_uri": "https://localhost:8080/"
        },
        "id": "d2rNWUcww9F7",
        "outputId": "a9de5d26-d535-4afd-fe42-bcc63111d31c"
      },
      "source": [
        "np.sum(z,axis=2)"
      ],
      "execution_count": null,
      "outputs": [
        {
          "output_type": "execute_result",
          "data": {
            "text/plain": [
              "array([[  3,  12,  21,  30],\n",
              "       [ 39,  48,  57,  66],\n",
              "       [ 75,  84,  93, 102]])"
            ]
          },
          "metadata": {
            "tags": []
          },
          "execution_count": 155
        }
      ]
    },
    {
      "cell_type": "code",
      "metadata": {
        "id": "4-iMz_lVxJvx"
      },
      "source": [
        "### axis 값이 튜플일 경우\n",
        "# 명시된 모든 axis에 관하여 실행"
      ],
      "execution_count": null,
      "outputs": []
    },
    {
      "cell_type": "code",
      "metadata": {
        "colab": {
          "base_uri": "https://localhost:8080/"
        },
        "id": "jTA257z2xaD5",
        "outputId": "1ee8968f-6c9d-4fe5-e874-35be4439f455"
      },
      "source": [
        "print(z)"
      ],
      "execution_count": null,
      "outputs": [
        {
          "output_type": "stream",
          "text": [
            "[[[ 0  1  2]\n",
            "  [ 3  4  5]\n",
            "  [ 6  7  8]\n",
            "  [ 9 10 11]]\n",
            "\n",
            " [[12 13 14]\n",
            "  [15 16 17]\n",
            "  [18 19 20]\n",
            "  [21 22 23]]\n",
            "\n",
            " [[24 25 26]\n",
            "  [27 28 29]\n",
            "  [30 31 32]\n",
            "  [33 34 35]]]\n"
          ],
          "name": "stdout"
        }
      ]
    },
    {
      "cell_type": "code",
      "metadata": {
        "colab": {
          "base_uri": "https://localhost:8080/"
        },
        "id": "OSdGdeHsxbso",
        "outputId": "5dbbaa3d-ecc6-482f-8a2c-aeb570a108de"
      },
      "source": [
        "np.sum(z,axis=(0,1))"
      ],
      "execution_count": null,
      "outputs": [
        {
          "output_type": "execute_result",
          "data": {
            "text/plain": [
              "array([198, 210, 222])"
            ]
          },
          "metadata": {
            "tags": []
          },
          "execution_count": 163
        }
      ]
    },
    {
      "cell_type": "code",
      "metadata": {
        "colab": {
          "base_uri": "https://localhost:8080/"
        },
        "id": "8yde6w7Pxgwh",
        "outputId": "a8a8d5d1-fd54-4577-cc9f-2e5c768a8bd0"
      },
      "source": [
        "np.sum(z,axis=(0,2))"
      ],
      "execution_count": null,
      "outputs": [
        {
          "output_type": "execute_result",
          "data": {
            "text/plain": [
              "array([117, 144, 171, 198])"
            ]
          },
          "metadata": {
            "tags": []
          },
          "execution_count": 164
        }
      ]
    },
    {
      "cell_type": "code",
      "metadata": {
        "id": "chV6y9K2xxhp"
      },
      "source": [
        "### 브로드캐스팅의 이해\n",
        "import numpy as np"
      ],
      "execution_count": 1,
      "outputs": []
    },
    {
      "cell_type": "code",
      "metadata": {
        "id": "myH0t64Yr6u5"
      },
      "source": [
        "### 브로드 캐스팅\n",
        "# shape이 같은 두 ndarray에 대한 연산은 각 원소별로 진행\n",
        "# 연산되는 두 ndarray가 다른 shape를 갖는 경우 브로드 캐스팅(shape을 맞춤) 후 진행"
      ],
      "execution_count": 2,
      "outputs": []
    },
    {
      "cell_type": "code",
      "metadata": {
        "id": "WPIJnkEKsLJx"
      },
      "source": [
        "### 브로드 캐스팅 Rule\n",
        "# 뒷 차원에서 부터 비교하여 Shape이 같거나, 차원 중 값이 1인 것이 존재하면 가능"
      ],
      "execution_count": 3,
      "outputs": []
    },
    {
      "cell_type": "code",
      "metadata": {
        "id": "7bY9khx0su89"
      },
      "source": [
        "# Shape이 같은 경우의 연산"
      ],
      "execution_count": 4,
      "outputs": []
    },
    {
      "cell_type": "code",
      "metadata": {
        "colab": {
          "base_uri": "https://localhost:8080/"
        },
        "id": "aLC5yhS4tR07",
        "outputId": "df48cb1d-d5aa-4593-c43f-fa430518bc8e"
      },
      "source": [
        "x = np.arange(15).reshape(3,5)\n",
        "y = np.random.rand(15).reshape(3,5)\n",
        "print(x)\n",
        "print(y)"
      ],
      "execution_count": 8,
      "outputs": [
        {
          "output_type": "stream",
          "text": [
            "[[ 0  1  2  3  4]\n",
            " [ 5  6  7  8  9]\n",
            " [10 11 12 13 14]]\n",
            "[[0.50212338 0.95618101 0.03130905 0.36628478 0.41286321]\n",
            " [0.22180473 0.89205165 0.39192705 0.55605114 0.5228715 ]\n",
            " [0.42133136 0.3095596  0.9810885  0.37341263 0.83700003]]\n"
          ],
          "name": "stdout"
        }
      ]
    },
    {
      "cell_type": "code",
      "metadata": {
        "colab": {
          "base_uri": "https://localhost:8080/"
        },
        "id": "rJ3LNCkztb7d",
        "outputId": "ae6ce4b2-af83-4e0f-c1ee-ed46a9d21e96"
      },
      "source": [
        "x+y\n",
        " "
      ],
      "execution_count": 9,
      "outputs": [
        {
          "output_type": "execute_result",
          "data": {
            "text/plain": [
              "array([[ 0.50212338,  1.95618101,  2.03130905,  3.36628478,  4.41286321],\n",
              "       [ 5.22180473,  6.89205165,  7.39192705,  8.55605114,  9.5228715 ],\n",
              "       [10.42133136, 11.3095596 , 12.9810885 , 13.37341263, 14.83700003]])"
            ]
          },
          "metadata": {
            "tags": []
          },
          "execution_count": 9
        }
      ]
    },
    {
      "cell_type": "code",
      "metadata": {
        "colab": {
          "base_uri": "https://localhost:8080/"
        },
        "id": "RGApAVIytzHF",
        "outputId": "4b88e511-a421-45f3-f6cd-8e263755076a"
      },
      "source": [
        "# sclalar(상수)와의 연산\n",
        "x*2"
      ],
      "execution_count": 10,
      "outputs": [
        {
          "output_type": "execute_result",
          "data": {
            "text/plain": [
              "array([[ 0,  2,  4,  6,  8],\n",
              "       [10, 12, 14, 16, 18],\n",
              "       [20, 22, 24, 26, 28]])"
            ]
          },
          "metadata": {
            "tags": []
          },
          "execution_count": 10
        }
      ]
    },
    {
      "cell_type": "code",
      "metadata": {
        "id": "1brP6xnNt6sV"
      },
      "source": [
        "#shape이 다른 경우"
      ],
      "execution_count": 11,
      "outputs": []
    },
    {
      "cell_type": "code",
      "metadata": {
        "colab": {
          "base_uri": "https://localhost:8080/"
        },
        "id": "njIjZFuCuBXP",
        "outputId": "5971fcde-a279-4b5e-9080-a1c5adb2701e"
      },
      "source": [
        "x = np.arange(12).reshape(4,3)\n",
        "y = np.arange(100,103)\n",
        "\n",
        "x+y"
      ],
      "execution_count": 14,
      "outputs": [
        {
          "output_type": "execute_result",
          "data": {
            "text/plain": [
              "array([[100, 102, 104],\n",
              "       [103, 105, 107],\n",
              "       [106, 108, 110],\n",
              "       [109, 111, 113]])"
            ]
          },
          "metadata": {
            "tags": []
          },
          "execution_count": 14
        }
      ]
    },
    {
      "cell_type": "code",
      "metadata": {
        "id": "KYc5H0rGuFnq"
      },
      "source": [
        "### Boolean indexing \n",
        "# ndarry 인덱싱 시 , bool 리스트를 전달하여 True인 경우만 필터링\n",
        "# 브로드캐스팅을 활용하여 ndarray로부터 Bool list얻기"
      ],
      "execution_count": 15,
      "outputs": []
    },
    {
      "cell_type": "code",
      "metadata": {
        "id": "s6uw8-dUvYjT"
      },
      "source": [
        "import numpy as np"
      ],
      "execution_count": 16,
      "outputs": []
    },
    {
      "cell_type": "code",
      "metadata": {
        "colab": {
          "base_uri": "https://localhost:8080/"
        },
        "id": "3HRoMYWEvg41",
        "outputId": "a1cd7763-dab9-47de-ce75-063f82e5be5c"
      },
      "source": [
        "x = np.random.randint(1,100,size = 10)\n",
        "print(x)"
      ],
      "execution_count": 17,
      "outputs": [
        {
          "output_type": "stream",
          "text": [
            "[55 56 20 80 90 38 76 86 46 57]\n"
          ],
          "name": "stdout"
        }
      ]
    },
    {
      "cell_type": "code",
      "metadata": {
        "colab": {
          "base_uri": "https://localhost:8080/"
        },
        "id": "YocYG4ljvr8o",
        "outputId": "5dff4473-e91d-443f-8722-1d7df7d57e68"
      },
      "source": [
        "x % 2 == 0"
      ],
      "execution_count": 18,
      "outputs": [
        {
          "output_type": "execute_result",
          "data": {
            "text/plain": [
              "array([False,  True,  True,  True,  True,  True,  True,  True,  True,\n",
              "       False])"
            ]
          },
          "metadata": {
            "tags": []
          },
          "execution_count": 18
        }
      ]
    },
    {
      "cell_type": "code",
      "metadata": {
        "colab": {
          "base_uri": "https://localhost:8080/"
        },
        "id": "R-NVE7_1vxYP",
        "outputId": "95cd221c-72fb-4288-de36-1c4ab14dc557"
      },
      "source": [
        "x[x%2==0]"
      ],
      "execution_count": 19,
      "outputs": [
        {
          "output_type": "execute_result",
          "data": {
            "text/plain": [
              "array([56, 20, 80, 90, 38, 76, 86, 46])"
            ]
          },
          "metadata": {
            "tags": []
          },
          "execution_count": 19
        }
      ]
    },
    {
      "cell_type": "code",
      "metadata": {
        "colab": {
          "base_uri": "https://localhost:8080/"
        },
        "id": "dgZqxI5yv4Kh",
        "outputId": "420cd0ce-ebae-41df-b657-2e9680b027a9"
      },
      "source": [
        "x[x>30]"
      ],
      "execution_count": 20,
      "outputs": [
        {
          "output_type": "execute_result",
          "data": {
            "text/plain": [
              "array([55, 56, 80, 90, 38, 76, 86, 46, 57])"
            ]
          },
          "metadata": {
            "tags": []
          },
          "execution_count": 20
        }
      ]
    },
    {
      "cell_type": "code",
      "metadata": {
        "id": "_IdnylZPwLUr"
      },
      "source": [
        "### 다중조건 사용하기\n",
        "# 파이썬 논리 연산자인 And,or,not 키워드 사용불가\n",
        "#  & - And\n",
        "#  | - or"
      ],
      "execution_count": 21,
      "outputs": []
    },
    {
      "cell_type": "code",
      "metadata": {
        "colab": {
          "base_uri": "https://localhost:8080/"
        },
        "id": "oX8Hru68we7I",
        "outputId": "86da91bb-c955-400c-be15-d30656cc257b"
      },
      "source": [
        "x[(x%2==0) & (x<30)]"
      ],
      "execution_count": 23,
      "outputs": [
        {
          "output_type": "execute_result",
          "data": {
            "text/plain": [
              "array([20])"
            ]
          },
          "metadata": {
            "tags": []
          },
          "execution_count": 23
        }
      ]
    },
    {
      "cell_type": "code",
      "metadata": {
        "colab": {
          "base_uri": "https://localhost:8080/"
        },
        "id": "cLI2rHKTwj70",
        "outputId": "c35bcb7c-3df2-46f0-87b8-8df500ba9239"
      },
      "source": [
        "x[(x>50) | (x<30)]"
      ],
      "execution_count": 25,
      "outputs": [
        {
          "output_type": "execute_result",
          "data": {
            "text/plain": [
              "array([55, 56, 20, 80, 90, 76, 86, 57])"
            ]
          },
          "metadata": {
            "tags": []
          },
          "execution_count": 25
        }
      ]
    },
    {
      "cell_type": "code",
      "metadata": {
        "id": "kWI3t9qJwsBf"
      },
      "source": [
        "### 학습목표\n",
        "# 1.linalg 허브모듈 함수를 활용하여 선형대수 연산하기"
      ],
      "execution_count": 27,
      "outputs": []
    },
    {
      "cell_type": "code",
      "metadata": {
        "id": "N8JeAnvRxdYX"
      },
      "source": [
        "import numpy as np"
      ],
      "execution_count": 28,
      "outputs": []
    },
    {
      "cell_type": "code",
      "metadata": {
        "id": "53oaE57cxhss"
      },
      "source": [
        "# np.linalg.inv\n",
        "# 역행렬을 구할 때 사용\n",
        "# 모든 차원의 값이 같아야 함"
      ],
      "execution_count": 29,
      "outputs": []
    },
    {
      "cell_type": "code",
      "metadata": {
        "colab": {
          "base_uri": "https://localhost:8080/"
        },
        "id": "eVNZn71SxpuD",
        "outputId": "536786f9-3da9-46f4-8517-a7d035f00105"
      },
      "source": [
        "x = np.random.randint(1,100,size=(3,3))\n",
        "print(x)\n",
        "\n",
        "y = np.linalg.inv(x) #역행렬\n",
        "\n",
        "x @ y # 행렬끼리의 곱 = np.random.randint(1,100,size=(3,3))\n",
        "print(x)\n",
        "\n",
        "y = np.linalg.inv(x) #역행렬 (행과 열의 숫자가 같아야 함 = np.random.randint(1,100,size=(3,3))\n",
        "print(x)\n",
        "\n",
        "y = np.linalg.inv(x) #역행렬\n",
        "\n",
        "x @ y # 행렬끼리의 곱 = np.random.randint(1,100,size=(3,3))\n",
        "print(x)\n",
        "\n",
        "y = np.linalg.inv(x) #역행렬 (행과 열의 숫자가 같아야 함)\n",
        "\n",
        ")\n",
        "\n",
        "x @ y # 행렬끼리의 곱\n",
        "\n",
        "np.matmul(x,np.linalg.inv(x))\n",
        "\n"
      ],
      "execution_count": 38,
      "outputs": [
        {
          "output_type": "stream",
          "text": [
            "[[35 17 42]\n",
            " [86 69 58]\n",
            " [21 95 35]]\n",
            "[[35 17 42]\n",
            " [86 69 58]\n",
            " [21 95 35]]\n"
          ],
          "name": "stdout"
        },
        {
          "output_type": "execute_result",
          "data": {
            "text/plain": [
              "array([[ 1.00000000e+00, -7.63278329e-17,  5.20417043e-17],\n",
              "       [ 1.24900090e-16,  1.00000000e+00,  2.42861287e-17],\n",
              "       [-6.24500451e-17,  1.04083409e-17,  1.00000000e+00]])"
            ]
          },
          "metadata": {
            "tags": []
          },
          "execution_count": 38
        }
      ]
    },
    {
      "cell_type": "code",
      "metadata": {
        "id": "1uw_iym8xupy"
      },
      "source": [
        "## x + y = 25\n",
        "## 2x + 4y = 64"
      ],
      "execution_count": 39,
      "outputs": []
    },
    {
      "cell_type": "code",
      "metadata": {
        "colab": {
          "base_uri": "https://localhost:8080/"
        },
        "id": "2M3LP7KpzIhA",
        "outputId": "8903a416-7458-4331-e905-aec3320d10d8"
      },
      "source": [
        "A = np.array([1,1,2,4]).reshape(2,2)\n",
        "B = np.array([25,64]).reshape(2,1)\n",
        "\n",
        "x = np.linalg.solve(A,B)\n",
        "print(x)"
      ],
      "execution_count": 43,
      "outputs": [
        {
          "output_type": "stream",
          "text": [
            "[[18.]\n",
            " [ 7.]]\n"
          ],
          "name": "stdout"
        }
      ]
    },
    {
      "cell_type": "code",
      "metadata": {
        "id": "DlK_sv8kzZ7T"
      },
      "source": [
        "### Matplotlib을 이용하여 그래프 그리기"
      ],
      "execution_count": 46,
      "outputs": []
    },
    {
      "cell_type": "code",
      "metadata": {
        "id": "21YQ8cM80D6_"
      },
      "source": [
        "import numpy as np\n",
        "import matplotlib.pyplot as plt\n",
        "%matplotlib inline"
      ],
      "execution_count": 48,
      "outputs": []
    },
    {
      "cell_type": "code",
      "metadata": {
        "colab": {
          "base_uri": "https://localhost:8080/"
        },
        "id": "7of65r3d0QDX",
        "outputId": "139067e1-fee9-4d72-dc6f-eb568c9be351"
      },
      "source": [
        "# 그래프 데이터 생성\n",
        "x = np.linspace(0,10,11)\n",
        "y = x **2 + x + 2 +np.random.randn(11)\n",
        "\n",
        "print(x)\n",
        "print(y)"
      ],
      "execution_count": 50,
      "outputs": [
        {
          "output_type": "stream",
          "text": [
            "[ 0.  1.  2.  3.  4.  5.  6.  7.  8.  9. 10.]\n",
            "[  2.15764447   4.26398617   8.32796558  12.49451567  24.14929268\n",
            "  33.17569445  44.19464487  56.56761931  74.27254427  91.49377518\n",
            " 111.76894741]\n"
          ],
          "name": "stdout"
        }
      ]
    },
    {
      "cell_type": "code",
      "metadata": {
        "colab": {
          "base_uri": "https://localhost:8080/",
          "height": 282
        },
        "id": "bNt4dxRg0adh",
        "outputId": "2588b64f-e85a-4404-8f18-6e0349f91d7e"
      },
      "source": [
        "plt.plot(x,y)"
      ],
      "execution_count": 51,
      "outputs": [
        {
          "output_type": "execute_result",
          "data": {
            "text/plain": [
              "[<matplotlib.lines.Line2D at 0x7fd9f1328750>]"
            ]
          },
          "metadata": {
            "tags": []
          },
          "execution_count": 51
        },
        {
          "output_type": "display_data",
          "data": {
            "image/png": "[encoded data removed]",
            "text/plain": [
              "<Figure size 432x288 with 1 Axes>"
            ]
          },
          "metadata": {
            "tags": [],
            "needs_background": "light"
          }
        }
      ]
    },
    {
      "cell_type": "code",
      "metadata": {
        "colab": {
          "base_uri": "https://localhost:8080/",
          "height": 282
        },
        "id": "eZOUWTLZ00zS",
        "outputId": "1a909f58-a903-401c-dab4-883fae4fc509"
      },
      "source": [
        "plt.scatter(x,y)"
      ],
      "execution_count": 52,
      "outputs": [
        {
          "output_type": "execute_result",
          "data": {
            "text/plain": [
              "<matplotlib.collections.PathCollection at 0x7fd9f0ded550>"
            ]
          },
          "metadata": {
            "tags": []
          },
          "execution_count": 52
        },
        {
          "output_type": "display_data",
          "data": {
            "image/png": "[encoded data removed]",
            "text/plain": [
              "<Figure size 432x288 with 1 Axes>"
            ]
          },
          "metadata": {
            "tags": [],
            "needs_background": "light"
          }
        }
      ]
    },
    {
      "cell_type": "code",
      "metadata": {
        "id": "uJXb3GVG03Gr"
      },
      "source": [
        "### 그래프에 주석 추가"
      ],
      "execution_count": 53,
      "outputs": []
    },
    {
      "cell_type": "code",
      "metadata": {
        "colab": {
          "base_uri": "https://localhost:8080/",
          "height": 313
        },
        "id": "ANRXou7705bM",
        "outputId": "1e4cc511-68a9-4eb9-9e21-03c300db8766"
      },
      "source": [
        "# x,y 축 및 타이틀\n",
        "plt.xlabel('Work Time')\n",
        "plt.ylabel('Salary')\n",
        "plt.title('X-Y relation')\n",
        "plt.plot(x,y)"
      ],
      "execution_count": 57,
      "outputs": [
        {
          "output_type": "execute_result",
          "data": {
            "text/plain": [
              "[<matplotlib.lines.Line2D at 0x7fd9f0c6b890>]"
            ]
          },
          "metadata": {
            "tags": []
          },
          "execution_count": 57
        },
        {
          "output_type": "display_data",
          "data": {
            "image/png": "[encoded data removed]",
            "text/plain": [
              "<Figure size 432x288 with 1 Axes>"
            ]
          },
          "metadata": {
            "tags": [],
            "needs_background": "light"
          }
        }
      ]
    },
    {
      "cell_type": "code",
      "metadata": {
        "colab": {
          "base_uri": "https://localhost:8080/",
          "height": 313
        },
        "id": "Lb5JLtzH1Gj5",
        "outputId": "21bc4f79-52cc-4636-828e-262bac9b34b3"
      },
      "source": [
        "# Gird (보조선 추가), x,y축 범위 바꾸기\n",
        "\n",
        "plt.xlabel('Work Time')\n",
        "plt.ylabel('Salary')\n",
        "plt.title('X-Y relation')\n",
        "plt.grid(True)\n",
        "plt.xlim(0,20)\n",
        "plt.ylim(0,200)\n",
        "\n",
        "plt.plot(x,y)"
      ],
      "execution_count": 60,
      "outputs": [
        {
          "output_type": "execute_result",
          "data": {
            "text/plain": [
              "[<matplotlib.lines.Line2D at 0x7fd9f0adb210>]"
            ]
          },
          "metadata": {
            "tags": []
          },
          "execution_count": 60
        },
        {
          "output_type": "display_data",
          "data": {
            "image/png": "[encoded data removed]",
            "text/plain": [
              "<Figure size 432x288 with 1 Axes>"
            ]
          },
          "metadata": {
            "tags": [],
            "needs_background": "light"
          }
        }
      ]
    },
    {
      "cell_type": "code",
      "metadata": {
        "id": "d4tmYJhk1mFM"
      },
      "source": [
        "### plot함수 parameters \n",
        "# 그래프의 형태에 대한 제어 가능"
      ],
      "execution_count": 63,
      "outputs": []
    },
    {
      "cell_type": "code",
      "metadata": {
        "colab": {
          "base_uri": "https://localhost:8080/",
          "height": 282
        },
        "id": "MR8B_k1d1zW0",
        "outputId": "31518d51-0709-4ae9-e28b-2bea156e446b"
      },
      "source": [
        "plt.plot(x,y,'r')"
      ],
      "execution_count": 65,
      "outputs": [
        {
          "output_type": "execute_result",
          "data": {
            "text/plain": [
              "[<matplotlib.lines.Line2D at 0x7fd9f0ad4110>]"
            ]
          },
          "metadata": {
            "tags": []
          },
          "execution_count": 65
        },
        {
          "output_type": "display_data",
          "data": {
            "image/png": "[encoded data removed]",
            "text/plain": [
              "<Figure size 432x288 with 1 Axes>"
            ]
          },
          "metadata": {
            "tags": [],
            "needs_background": "light"
          }
        }
      ]
    },
    {
      "cell_type": "code",
      "metadata": {
        "colab": {
          "base_uri": "https://localhost:8080/",
          "height": 282
        },
        "id": "iJ-qD8bQ2Evy",
        "outputId": "67cf2681-d5ed-4597-adec-2425d88700ae"
      },
      "source": [
        "plt.plot(x,y,'-.')"
      ],
      "execution_count": 67,
      "outputs": [
        {
          "output_type": "execute_result",
          "data": {
            "text/plain": [
              "[<matplotlib.lines.Line2D at 0x7fd9f0997cd0>]"
            ]
          },
          "metadata": {
            "tags": []
          },
          "execution_count": 67
        },
        {
          "output_type": "display_data",
          "data": {
            "image/png": "[encoded data removed]",
            "text/plain": [
              "<Figure size 432x288 with 1 Axes>"
            ]
          },
          "metadata": {
            "tags": [],
            "needs_background": "light"
          }
        }
      ]
    },
    {
      "cell_type": "code",
      "metadata": {
        "colab": {
          "base_uri": "https://localhost:8080/",
          "height": 282
        },
        "id": "3_PAn1u-2OWG",
        "outputId": "81f88067-afce-4edc-bb36-ec2cedbce859"
      },
      "source": [
        "plt.plot(x,y,'g^')"
      ],
      "execution_count": 68,
      "outputs": [
        {
          "output_type": "execute_result",
          "data": {
            "text/plain": [
              "[<matplotlib.lines.Line2D at 0x7fd9f0dc6ad0>]"
            ]
          },
          "metadata": {
            "tags": []
          },
          "execution_count": 68
        },
        {
          "output_type": "display_data",
          "data": {
            "image/png": "[encoded data removed]",
            "text/plain": [
              "<Figure size 432x288 with 1 Axes>"
            ]
          },
          "metadata": {
            "tags": [],
            "needs_background": "light"
          }
        }
      ]
    },
    {
      "cell_type": "code",
      "metadata": {
        "colab": {
          "base_uri": "https://localhost:8080/",
          "height": 282
        },
        "id": "r7B5Y9vn2TwU",
        "outputId": "c5466406-8202-4eac-83d8-251f72c34b76"
      },
      "source": [
        "plt.plot(x,y,'m:')"
      ],
      "execution_count": 69,
      "outputs": [
        {
          "output_type": "execute_result",
          "data": {
            "text/plain": [
              "[<matplotlib.lines.Line2D at 0x7fd9f0db3b50>]"
            ]
          },
          "metadata": {
            "tags": []
          },
          "execution_count": 69
        },
        {
          "output_type": "display_data",
          "data": {
            "image/png": "[encoded data removed]",
            "text/plain": [
              "<Figure size 432x288 with 1 Axes>"
            ]
          },
          "metadata": {
            "tags": [],
            "needs_background": "light"
          }
        }
      ]
    },
    {
      "cell_type": "code",
      "metadata": {
        "id": "x6-2OfGS2XO6"
      },
      "source": [
        "### 그래프 두께 명시"
      ],
      "execution_count": 70,
      "outputs": []
    },
    {
      "cell_type": "code",
      "metadata": {
        "colab": {
          "base_uri": "https://localhost:8080/",
          "height": 282
        },
        "id": "xOW-a4e82gOL",
        "outputId": "59dcb272-83ff-4dbe-db3c-7676578865e5"
      },
      "source": [
        "plt.plot(x,y,linewidth = 50)"
      ],
      "execution_count": 73,
      "outputs": [
        {
          "output_type": "execute_result",
          "data": {
            "text/plain": [
              "[<matplotlib.lines.Line2D at 0x7fd9f0bde710>]"
            ]
          },
          "metadata": {
            "tags": []
          },
          "execution_count": 73
        },
        {
          "output_type": "display_data",
          "data": {
            "image/png": "[encoded data removed]",
            "text/plain": [
              "<Figure size 432x288 with 1 Axes>"
            ]
          },
          "metadata": {
            "tags": [],
            "needs_background": "light"
          }
        }
      ]
    },
    {
      "cell_type": "code",
      "metadata": {
        "id": "wBk4WB0C2lo9"
      },
      "source": [
        "### keyword parameter를 이용하여 모든 속성 설정\n",
        "# color\n",
        "# linestyle\n",
        "# marker\n",
        "#markerfacecolor\n",
        "#markersize 등"
      ],
      "execution_count": 74,
      "outputs": []
    },
    {
      "cell_type": "code",
      "metadata": {
        "colab": {
          "base_uri": "https://localhost:8080/",
          "height": 282
        },
        "id": "RrgNk-RF28Q5",
        "outputId": "8f4c75be-9409-482f-ae7c-2a5dcc79c02a"
      },
      "source": [
        "plt.plot(x,y,color = 'black',linestyle='--',marker = '^',markerfacecolor='blue',markersize=6)"
      ],
      "execution_count": 75,
      "outputs": [
        {
          "output_type": "execute_result",
          "data": {
            "text/plain": [
              "[<matplotlib.lines.Line2D at 0x7fd9f08e7a50>]"
            ]
          },
          "metadata": {
            "tags": []
          },
          "execution_count": 75
        },
        {
          "output_type": "display_data",
          "data": {
            "image/png": "[encoded data removed]",
            "text/plain": [
              "<Figure size 432x288 with 1 Axes>"
            ]
          },
          "metadata": {
            "tags": [],
            "needs_background": "light"
          }
        }
      ]
    },
    {
      "cell_type": "code",
      "metadata": {
        "id": "DQ9VFhJa3ODd"
      },
      "source": [
        "### subplot으로 여러 그래프 출력하기\n",
        "# subplot함수로 구획을 구별하여 각각의 subplot 그래프 출력"
      ],
      "execution_count": 76,
      "outputs": []
    },
    {
      "cell_type": "code",
      "metadata": {
        "colab": {
          "base_uri": "https://localhost:8080/",
          "height": 282
        },
        "id": "g-ssL_7G3bO_",
        "outputId": "055bb379-8872-4108-d07c-6f71a4d653e7"
      },
      "source": [
        "plt.subplot(2,2,1) # Subplot의 모양과 순서\n",
        "plt.plot(x,y,'r')\n",
        "\n",
        "plt.subplot(2,2,2)\n",
        "plt.plot(x,y,'g')\n",
        "\n",
        "plt.subplot(2,2,3)\n",
        "plt.plot(x,y,'m')\n",
        "\n",
        "plt.subplot(2,2,4)\n",
        "plt.plot(x,np.exp(x),'b')"
      ],
      "execution_count": 80,
      "outputs": [
        {
          "output_type": "execute_result",
          "data": {
            "text/plain": [
              "[<matplotlib.lines.Line2D at 0x7fd9f0605610>]"
            ]
          },
          "metadata": {
            "tags": []
          },
          "execution_count": 80
        },
        {
          "output_type": "display_data",
          "data": {
            "image/png": "[encoded data removed]",
            "text/plain": [
              "<Figure size 432x288 with 4 Axes>"
            ]
          },
          "metadata": {
            "tags": [],
            "needs_background": "light"
          }
        }
      ]
    },
    {
      "cell_type": "code",
      "metadata": {
        "id": "2qZN1iWn335x"
      },
      "source": [
        "### hist 함수 사용"
      ],
      "execution_count": 81,
      "outputs": []
    },
    {
      "cell_type": "code",
      "metadata": {
        "colab": {
          "base_uri": "https://localhost:8080/"
        },
        "id": "ABSqxf884Gna",
        "outputId": "ff089843-056c-44ce-a056-1821e62b2e3d"
      },
      "source": [
        "data= np.random.randint(1,100,size = 200)\n",
        "print(data)"
      ],
      "execution_count": 82,
      "outputs": [
        {
          "output_type": "stream",
          "text": [
            "[75 95 26 31 98 69 71 75 24 19 92 83 47 47 79 65 86 65 27 93 15 83 86 30\n",
            " 55 36 37  4 19 33 89 74 76 54 39 37 45 36 70 58 66 72 99 48 88  3 32 16\n",
            " 28 86 91 50 36 42 89 74  9  1 35  1 14 74 84 78 29 50  4 62 24 78 68 93\n",
            " 88 91  7 81 22 87 39 59 97 96 74 88 81  4 49 91 11 27 21 79 55 17  4 71\n",
            " 50 28 29 27 29 36 92 32 22 27  2 72  7 35 23 73 12 61 40 66 28 83 79 64\n",
            " 24 12 86 89 98 90 43 45 25 17 64 92 35  8 40 87 45 49 37  6 18 18 41 78\n",
            " 11  2 49 28  1 64 30 33 41 14 94 61 10 69 58 39 66 30 84 82 47 89 67 75\n",
            " 15 76 33 93 31  8 29 90 79 38 11 45 51 96 28 56 47 20 31 30 17 14 13 12\n",
            " 39 82 18 78 43 33 83 88]\n"
          ],
          "name": "stdout"
        }
      ]
    },
    {
      "cell_type": "code",
      "metadata": {
        "colab": {
          "base_uri": "https://localhost:8080/",
          "height": 279
        },
        "id": "G4ew7IfH4PPw",
        "outputId": "86b6fec0-a8ec-495e-f430-43a150619a12"
      },
      "source": [
        "plt.hist(data, bins=20, alpha = 0.3) # alpha 투명도 지정\n",
        "plt.xlabel('value')\n",
        "plt.ylabel('haha')\n",
        "plt.grid(True)"
      ],
      "execution_count": 86,
      "outputs": [
        {
          "output_type": "display_data",
          "data": {
            "image/png": "[encoded data removed]",
            "text/plain": [
              "<Figure size 432x288 with 1 Axes>"
            ]
          },
          "metadata": {
            "tags": [],
            "needs_background": "light"
          }
        }
      ]
    },
    {
      "cell_type": "code",
      "metadata": {
        "id": "6IYmzKwu4Sny"
      },
      "source": [
        ""
      ],
      "execution_count": null,
      "outputs": []
    }
  ]
}